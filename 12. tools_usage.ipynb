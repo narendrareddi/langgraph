{
 "cells": [
  {
   "cell_type": "code",
   "execution_count": 14,
   "id": "f2adb91b",
   "metadata": {},
   "outputs": [
    {
     "data": {
      "text/plain": [
       "True"
      ]
     },
     "execution_count": 14,
     "metadata": {},
     "output_type": "execute_result"
    }
   ],
   "source": [
    "from langgraph.graph import StateGraph,START,END,MessagesState\n",
    "from langchain_google_genai import ChatGoogleGenerativeAI\n",
    "from langchain_core.tools import tool\n",
    "from langgraph.prebuilt import ToolNode,tools_condition\n",
    "from dotenv import load_dotenv\n",
    "from langchain_core.messages import AIMessage,HumanMessage\n",
    "import os,requests\n",
    "load_dotenv()"
   ]
  },
  {
   "cell_type": "code",
   "execution_count": 2,
   "id": "a97e2ba3",
   "metadata": {},
   "outputs": [],
   "source": [
    "llm = ChatGoogleGenerativeAI(model='gemini-2.0-flash')"
   ]
  },
  {
   "cell_type": "code",
   "execution_count": 7,
   "id": "61b0c8ad",
   "metadata": {},
   "outputs": [],
   "source": [
    "from langchain_community.tools import DuckDuckGoSearchRun\n",
    "search_tool = DuckDuckGoSearchRun(region=\"us-en\")"
   ]
  },
  {
   "cell_type": "code",
   "execution_count": 9,
   "id": "63f8cfa6",
   "metadata": {},
   "outputs": [],
   "source": [
    "@tool\n",
    "def calculator(first_num: float, second_num: float, operation: str) -> dict:\n",
    "    \"\"\"\n",
    "    Perform a basic arithmetic operation on two numbers.\n",
    "    Supported operations: add, sub, mul, div\n",
    "    \"\"\"\n",
    "    try:\n",
    "        if operation == \"add\":\n",
    "            result = first_num + second_num\n",
    "        elif operation == \"sub\":\n",
    "            result = first_num - second_num\n",
    "        elif operation == \"mul\":\n",
    "            result = first_num * second_num\n",
    "        elif operation == \"div\":\n",
    "            if second_num == 0:\n",
    "                return {\"error\": \"Division by zero is not allowed\"}\n",
    "            result = first_num / second_num\n",
    "        else:\n",
    "            return {\"error\": f\"Unsupported operation '{operation}'\"}\n",
    "        \n",
    "        return {\"first_num\": first_num, \"second_num\": second_num, \"operation\": operation, \"result\": result}\n",
    "    except Exception as e:\n",
    "        return {\"error\": str(e)}\n",
    "\n",
    "\n"
   ]
  },
  {
   "cell_type": "code",
   "execution_count": 10,
   "id": "5c5f3279",
   "metadata": {},
   "outputs": [],
   "source": [
    "ALPHAVANTAGE_STOCK_KEY = os.getenv('ALPHAVANTAGE_STOCK_KEY')\n",
    "@tool\n",
    "def get_stock_price(symbol: str) -> dict:\n",
    "    \"\"\"\n",
    "    Fetch latest stock price for a given symbol (e.g. 'AAPL', 'TSLA') \n",
    "    using Alpha Vantage with API key in the URL.\n",
    "    \"\"\"\n",
    "    url = f\"https://www.alphavantage.co/query?function=GLOBAL_QUOTE&symbol={ALPHAVANTAGE_STOCK_KEY}&apikey=C9PE94QUEW9VWGFM\"\n",
    "    r = requests.get(url)\n",
    "    return r.json()\n"
   ]
  },
  {
   "cell_type": "code",
   "execution_count": 11,
   "id": "4b928108",
   "metadata": {},
   "outputs": [],
   "source": [
    "tools = [get_stock_price,calculator,search_tool]\n",
    "tool_node = ToolNode(tools)"
   ]
  },
  {
   "cell_type": "code",
   "execution_count": 12,
   "id": "c8dc9256",
   "metadata": {},
   "outputs": [],
   "source": [
    "llm_with_tools = llm.bind_tools(tools)"
   ]
  },
  {
   "cell_type": "code",
   "execution_count": 26,
   "id": "d85f31b4",
   "metadata": {},
   "outputs": [],
   "source": [
    "def LLM(state):\n",
    "    messages = state['messages']\n",
    "    response = llm_with_tools.invoke(messages)\n",
    "    return {\"messages\": [response]}"
   ]
  },
  {
   "cell_type": "code",
   "execution_count": 27,
   "id": "46b00338",
   "metadata": {},
   "outputs": [
    {
     "data": {
      "image/png": "[encoded data removed]",
      "text/plain": [
       "<langgraph.graph.state.CompiledStateGraph object at 0x00000204F310B800>"
      ]
     },
     "execution_count": 27,
     "metadata": {},
     "output_type": "execute_result"
    }
   ],
   "source": [
    "graph = StateGraph(MessagesState)\n",
    "graph.add_node(\"LLM\",LLM)\n",
    "graph.add_node(\"tools\",tool_node)\n",
    "graph.add_edge(START,\"LLM\")\n",
    "graph.add_conditional_edges(\"LLM\",tools_condition)\n",
    "graph.add_edge(\"tools\",\"LLM\")\n",
    "app = graph.compile()\n",
    "app"
   ]
  },
  {
   "cell_type": "code",
   "execution_count": 28,
   "id": "76c9e964",
   "metadata": {},
   "outputs": [
    {
     "name": "stdout",
     "output_type": "stream",
     "text": [
      "Hi there! How can I help you today?\n"
     ]
    }
   ],
   "source": [
    "# app.invoke({'messages':['Hi']})\n",
    "# Regular chat\n",
    "out = app.invoke({\"messages\": [HumanMessage(content=\"Hello!\")]})\n",
    "\n",
    "print(out[\"messages\"][-1].content)"
   ]
  },
  {
   "cell_type": "code",
   "execution_count": 34,
   "id": "fdbea203",
   "metadata": {},
   "outputs": [
    {
     "name": "stdout",
     "output_type": "stream",
     "text": [
      "I am unable to retrieve the stock price at this time. Please try again later.\n"
     ]
    }
   ],
   "source": [
    "# Chat requiring tool\n",
    "out = app.invoke({\"messages\": [HumanMessage(content=\"What is the stock price of apple\")]})\n",
    "print(out[\"messages\"][-1].content)"
   ]
  },
  {
   "cell_type": "code",
   "execution_count": null,
   "id": "140d7cc3",
   "metadata": {},
   "outputs": [
    {
     "name": "stdout",
     "output_type": "stream",
     "text": [
      "content='What is 2*3?' additional_kwargs={} response_metadata={} id='8e541c68-ccd2-413a-b3bf-59a1fb0c6750'\n",
      "content='' additional_kwargs={'function_call': {'name': 'calculator', 'arguments': '{\"second_num\": 3.0, \"first_num\": 2.0, \"operation\": \"mul\"}'}} response_metadata={'prompt_feedback': {'block_reason': 0, 'safety_ratings': []}, 'finish_reason': 'STOP', 'model_name': 'gemini-2.0-flash', 'safety_ratings': []} id='run--0ef9b168-5f1f-4ff8-a14a-379ac6d7dd26-0' tool_calls=[{'name': 'calculator', 'args': {'second_num': 3.0, 'first_num': 2.0, 'operation': 'mul'}, 'id': '8fdc5d7c-b23e-4d71-a9e1-6ddf13f68056', 'type': 'tool_call'}] usage_metadata={'input_tokens': 129, 'output_tokens': 11, 'total_tokens': 140, 'input_token_details': {'cache_read': 0}}\n",
      "content='{\"first_num\": 2.0, \"second_num\": 3.0, \"operation\": \"mul\", \"result\": 6.0}' name='calculator' id='3d6fd5cf-763e-4ca4-9d43-60621ca2e24e' tool_call_id='8fdc5d7c-b23e-4d71-a9e1-6ddf13f68056'\n",
      "content='2*3 is 6.' additional_kwargs={} response_metadata={'prompt_feedback': {'block_reason': 0, 'safety_ratings': []}, 'finish_reason': 'STOP', 'model_name': 'gemini-2.0-flash', 'safety_ratings': []} id='run--67bf2035-cd80-4164-905e-929a6343ef96-0' usage_metadata={'input_tokens': 153, 'output_tokens': 8, 'total_tokens': 161, 'input_token_details': {'cache_read': 0}}\n"
     ]
    }
   ],
   "source": [
    "# Chat requiring tool\n",
    "out = app.invoke({\"messages\": [HumanMessage(content=\"What is 2*3?\")]})\n",
    "for msg in out[\"messages\"]:\n",
    "    print(msg)"
   ]
  }
 ],
 "metadata": {
  "kernelspec": {
   "display_name": ".venv",
   "language": "python",
   "name": "python3"
  },
  "language_info": {
   "codemirror_mode": {
    "name": "ipython",
    "version": 3
   },
   "file_extension": ".py",
   "mimetype": "text/x-python",
   "name": "python",
   "nbconvert_exporter": "python",
   "pygments_lexer": "ipython3",
   "version": "3.12.7"
  }
 },
 "nbformat": 4,
 "nbformat_minor": 5
}
