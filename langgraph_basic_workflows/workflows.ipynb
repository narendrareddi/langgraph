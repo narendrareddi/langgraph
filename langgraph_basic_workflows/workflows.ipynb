{
 "cells": [
  {
   "cell_type": "code",
   "execution_count": 3,
   "id": "fc9c3929",
   "metadata": {},
   "outputs": [
    {
     "data": {
      "text/plain": [
       "True"
      ]
     },
     "execution_count": 3,
     "metadata": {},
     "output_type": "execute_result"
    }
   ],
   "source": [
    "import os\n",
    "from dotenv import load_dotenv\n",
    "load_dotenv()"
   ]
  },
  {
   "cell_type": "code",
   "execution_count": 4,
   "id": "30841a6f",
   "metadata": {},
   "outputs": [],
   "source": [
    "os.environ[\"GOOGLE_API_KEY\"] = os.getenv(\"GOOGLE_API_KEY\")\n",
    "os.environ[\"LANGCHAIN_API_KEY\"] = os.getenv(\"LANGCHAIN_API_KEY\")\n",
    "os.environ[\"LANGCHAIN_ENDPOINT\"] = os.getenv(\"LANGCHAIN_ENDPOINT\")\n",
    "os.environ[\"LANGCHAIN_TRACING_V2\"] = os.getenv(\"LANGCHAIN_TRACING_V2\")\n",
    "os.environ[\"LANGSMITH_PROJECT\"] = os.getenv(\"LANGSMITH_PROJECT\")\n",
    "os.environ[\"GROQ_API_KEY\"] = os.getenv(\"GROQ_API_KEY\")\n",
    "os.environ[\"TAVILY_API_KEY\"] = os.getenv(\"TAVILY_API_KEY\")\n",
    "os.environ['SERPER_API_KEY'] = os.getenv(\"SERPER_API_KEY\")"
   ]
  },
  {
   "cell_type": "code",
   "execution_count": 5,
   "id": "17b2271b",
   "metadata": {},
   "outputs": [],
   "source": [
    "from langgraph.graph import Graph"
   ]
  },
  {
   "cell_type": "code",
   "execution_count": 6,
   "id": "b23969ac",
   "metadata": {},
   "outputs": [],
   "source": [
    "def function1(data:str):\n",
    "    return data + \" Narendra from function1\"\n",
    "\n",
    "def function2(data:str):\n",
    "    return data + \" Reddy from function2\""
   ]
  },
  {
   "cell_type": "code",
   "execution_count": 7,
   "id": "5da522a8",
   "metadata": {},
   "outputs": [],
   "source": [
    "workflow1 =  Graph()\n",
    "workflow1.add_node(\"function1\",function1)\n",
    "workflow1.add_node(\"function2\",function2)\n",
    "workflow1.add_edge(\"function1\",\"function2\")\n",
    "workflow1.set_entry_point(\"function1\")\n",
    "workflow1.set_finish_point(\"function2\")\n",
    "app1 = workflow1.compile()"
   ]
  },
  {
   "cell_type": "code",
   "execution_count": 10,
   "id": "bb516b16",
   "metadata": {},
   "outputs": [
    {
     "data": {
      "image/png": "[encoded data removed]",
      "text/plain": [
       "<IPython.core.display.Image object>"
      ]
     },
     "metadata": {},
     "output_type": "display_data"
    }
   ],
   "source": [
    "from IPython.display import Image,display\n",
    "display(Image(app1.get_graph().draw_mermaid_png()))"
   ]
  },
  {
   "cell_type": "code",
   "execution_count": 11,
   "id": "761eedb3",
   "metadata": {},
   "outputs": [
    {
     "data": {
      "text/plain": [
       "'Hi Narendra from function1 Reddy from function2'"
      ]
     },
     "execution_count": 11,
     "metadata": {},
     "output_type": "execute_result"
    }
   ],
   "source": [
    "app1.invoke(\"Hi\")"
   ]
  },
  {
   "cell_type": "code",
   "execution_count": 12,
   "id": "b2e7ca3a",
   "metadata": {},
   "outputs": [
    {
     "name": "stdout",
     "output_type": "stream",
     "text": [
      "function1 output is Hi Narendra from function1\n",
      "function2 output is Hi Narendra from function1 Reddy from function2\n"
     ]
    }
   ],
   "source": [
    "for output in app1.stream(\"Hi\"):\n",
    "    for k,v in output.items():\n",
    "        print(f\"{k} output is {v}\")"
   ]
  },
  {
   "cell_type": "code",
   "execution_count": 22,
   "id": "eb9f5c46",
   "metadata": {},
   "outputs": [],
   "source": [
    "def function1(data:str):\n",
    "    return data + \" Narendra from function1\"\n",
    "\n",
    "def function2(data:str):\n",
    "    x = function3(data)\n",
    "    return x + \" Reddy from function2\"\n",
    "\n",
    "def function3(data:str):\n",
    "    return data.upper()\n"
   ]
  },
  {
   "cell_type": "code",
   "execution_count": 23,
   "id": "a60ffb04",
   "metadata": {},
   "outputs": [],
   "source": [
    "workflow2 = Graph()\n",
    "workflow2.add_node(\"A\",function1)\n",
    "workflow2.add_node(\"B\",function2)\n",
    "workflow2.add_edge(\"A\",\"B\")\n",
    "workflow2.set_entry_point(\"A\")\n",
    "workflow2.set_finish_point(\"B\")\n",
    "app2 = workflow2.compile()"
   ]
  },
  {
   "cell_type": "code",
   "execution_count": 24,
   "id": "be42e283",
   "metadata": {},
   "outputs": [
    {
     "data": {
      "image/png": "[encoded data removed]",
      "text/plain": [
       "<IPython.core.display.Image object>"
      ]
     },
     "metadata": {},
     "output_type": "display_data"
    }
   ],
   "source": [
    "display(Image(app2.get_graph().draw_mermaid_png()))"
   ]
  },
  {
   "cell_type": "code",
   "execution_count": 25,
   "id": "d5a9f782",
   "metadata": {},
   "outputs": [
    {
     "data": {
      "text/plain": [
       "'HI NARENDRA FROM FUNCTION1 Reddy from function2'"
      ]
     },
     "execution_count": 25,
     "metadata": {},
     "output_type": "execute_result"
    }
   ],
   "source": [
    "app2.invoke(\"Hi\")"
   ]
  },
  {
   "cell_type": "code",
   "execution_count": 31,
   "id": "a44905a9",
   "metadata": {},
   "outputs": [],
   "source": [
    "def function1(data:str):\n",
    "    return data + \" Narendra from function1\"\n",
    "\n",
    "def function2(data:str):\n",
    "    return data + \" Reddy from function2\"\n",
    "\n",
    "def function3(data:str):\n",
    "    return len(data.split())\n"
   ]
  },
  {
   "cell_type": "code",
   "execution_count": 32,
   "id": "fa239954",
   "metadata": {},
   "outputs": [
    {
     "data": {
      "image/png": "[encoded data removed]",
      "text/plain": [
       "<IPython.core.display.Image object>"
      ]
     },
     "metadata": {},
     "output_type": "display_data"
    }
   ],
   "source": [
    "workflow3 = Graph()\n",
    "workflow3.add_node(\"A\",function1)\n",
    "workflow3.add_node(\"B\",function2)\n",
    "workflow3.add_node(\"length\",function3)\n",
    "workflow3.add_edge(\"A\",\"B\")\n",
    "workflow3.add_edge(\"B\",\"length\")\n",
    "workflow3.set_entry_point(\"A\")\n",
    "workflow3.set_finish_point(\"length\")\n",
    "app3 = workflow3.compile()\n",
    "display(Image(app3.get_graph().draw_mermaid_png()))"
   ]
  },
  {
   "cell_type": "code",
   "execution_count": 34,
   "id": "af3cc550",
   "metadata": {},
   "outputs": [
    {
     "name": "stdout",
     "output_type": "stream",
     "text": [
      "A output is Hi Narendra from function1\n",
      "B output is Hi Narendra from function1 Reddy from function2\n",
      "length output is 7\n"
     ]
    }
   ],
   "source": [
    "for node in app3.stream(\"Hi\"):\n",
    "    for func,out in node.items():\n",
    "        print(f\"{func} output is {out}\")"
   ]
  },
  {
   "cell_type": "code",
   "execution_count": 35,
   "id": "33cc87a1",
   "metadata": {},
   "outputs": [
    {
     "data": {
      "text/plain": [
       "7"
      ]
     },
     "execution_count": 35,
     "metadata": {},
     "output_type": "execute_result"
    }
   ],
   "source": [
    "app3.invoke(\"Hi\")"
   ]
  },
  {
   "cell_type": "markdown",
   "id": "9862dbf2",
   "metadata": {},
   "source": [
    "### With RAGtool"
   ]
  },
  {
   "cell_type": "code",
   "execution_count": 41,
   "id": "8278e42a",
   "metadata": {},
   "outputs": [],
   "source": [
    "from langchain_community.document_loaders import DirectoryLoader,TextLoader\n",
    "from langchain.text_splitter import RecursiveCharacterTextSplitter\n",
    "from langchain_community.vectorstores import Chroma"
   ]
  },
  {
   "cell_type": "code",
   "execution_count": 43,
   "id": "3624d598",
   "metadata": {},
   "outputs": [
    {
     "name": "stderr",
     "output_type": "stream",
     "text": [
      "c:\\Users\\Narendra\\anaconda3\\envs\\.venv\\Lib\\site-packages\\tqdm\\auto.py:21: TqdmWarning: IProgress not found. Please update jupyter and ipywidgets. See https://ipywidgets.readthedocs.io/en/stable/user_install.html\n",
      "  from .autonotebook import tqdm as notebook_tqdm\n"
     ]
    }
   ],
   "source": [
    "from langchain_huggingface import HuggingFaceEmbeddings\n",
    "embeddings = HuggingFaceEmbeddings(model_name=\"all-MiniLM-L6-v2\")"
   ]
  },
  {
   "cell_type": "code",
   "execution_count": 76,
   "id": "a99286af",
   "metadata": {},
   "outputs": [
    {
     "name": "stderr",
     "output_type": "stream",
     "text": [
      "C:\\Users\\Narendra\\AppData\\Local\\Temp\\ipykernel_18612\\4200860511.py:6: LangChainDeprecationWarning: Since Chroma 0.4.x the manual persistence method is no longer supported as docs are automatically persisted.\n",
      "  vectordb.persist()  # Persist to disk\n"
     ]
    }
   ],
   "source": [
    "loader = DirectoryLoader(\"../data\",glob=\"./*.txt\",loader_cls=TextLoader)\n",
    "splitter = RecursiveCharacterTextSplitter(chunk_size=100,chunk_overlap=10)\n",
    "docs = loader.load()\n",
    "new_docs = splitter.split_documents(docs)\n",
    "vectordb = Chroma.from_documents(new_docs,embeddings,persist_directory=\"./chroma_db\")\n",
    "vectordb.persist()  # Persist to disk"
   ]
  },
  {
   "cell_type": "code",
   "execution_count": 77,
   "id": "611e4b4f",
   "metadata": {},
   "outputs": [],
   "source": [
    "retriever = vectordb.as_retriever(search_kwargs={\"k\":3})"
   ]
  },
  {
   "cell_type": "code",
   "execution_count": 88,
   "id": "3b542e34",
   "metadata": {},
   "outputs": [],
   "source": [
    "def function1(AgentState):\n",
    "    # Make LLM Call\n",
    "    messages = AgentState[\"messages\"]\n",
    "    question = messages[-1]\n",
    "    complete_prompt=\"Your task is to provide only the brief answer based on the user query. \\\n",
    "        Don't include too much reasoning. Following is the user query: \" + question\n",
    "    res = llm.invoke(complete_prompt)\n",
    "    AgentState[\"messages\"].append(res.content)\n",
    "    return AgentState"
   ]
  },
  {
   "cell_type": "code",
   "execution_count": 89,
   "id": "c264af66",
   "metadata": {},
   "outputs": [],
   "source": [
    "from langchain.prompts import PromptTemplate\n",
    "from langchain_core.runnables import RunnableParallel,RunnablePassthrough"
   ]
  },
  {
   "cell_type": "code",
   "execution_count": 90,
   "id": "9a34dab0",
   "metadata": {},
   "outputs": [],
   "source": [
    "from langchain_core.output_parsers import StrOutputParser\n",
    "from langchain_groq import ChatGroq\n",
    "llm = ChatGroq(model_name=\"Gemma2-9b-It\")"
   ]
  },
  {
   "cell_type": "code",
   "execution_count": 91,
   "id": "c46da10f",
   "metadata": {},
   "outputs": [],
   "source": [
    "def function2(AgentState):\n",
    "    messages = AgentState[\"messages\"]\n",
    "    question = messages[0]\n",
    "    template = \"\"\"Answer the question based only on the following context:\n",
    "    {context}\n",
    "\n",
    "    Question: {question}\n",
    "    \"\"\"\n",
    "    prompt = PromptTemplate.from_template(template)\n",
    "    retriever_chain = RunnableParallel({\"context\": retriever,\"question\": RunnablePassthrough()}) | prompt | llm | StrOutputParser()\n",
    "    return retriever_chain.invoke(question)\n",
    "    "
   ]
  },
  {
   "cell_type": "code",
   "execution_count": 92,
   "id": "58ed5b9d",
   "metadata": {},
   "outputs": [],
   "source": [
    "# Define a Langchain graph\n",
    "workflow4 = Graph()\n",
    "workflow4.add_node(\"LLM\", function1)\n",
    "workflow4.add_node(\"RAGtool\", function2)\n",
    "workflow4.add_edge('LLM', 'RAGtool')\n",
    "workflow4.set_entry_point(\"LLM\")\n",
    "workflow4.set_finish_point(\"RAGtool\")\n",
    "app4 = workflow4.compile()"
   ]
  },
  {
   "cell_type": "code",
   "execution_count": 93,
   "id": "59b85248",
   "metadata": {},
   "outputs": [
    {
     "data": {
      "image/png": "[encoded data removed]",
      "text/plain": [
       "<IPython.core.display.Image object>"
      ]
     },
     "metadata": {},
     "output_type": "display_data"
    }
   ],
   "source": [
    "from IPython.display import Image, display\n",
    "\n",
    "try:\n",
    "    display(Image(app4.get_graph().draw_mermaid_png()))\n",
    "except Exception as e:\n",
    "    # This requires some extra dependencies and is optional\n",
    "    print(e)"
   ]
  },
  {
   "cell_type": "code",
   "execution_count": 94,
   "id": "3cdfd0e3",
   "metadata": {},
   "outputs": [],
   "source": [
    "inputs = {\"messages\": [\"Tell me about llama3 model\"]}"
   ]
  },
  {
   "cell_type": "code",
   "execution_count": 95,
   "id": "d32a9152",
   "metadata": {},
   "outputs": [
    {
     "data": {
      "text/plain": [
       "'Llama 3 is a state of the art language model, such as PaLM and Chinchilla. Meta AI\\'s testing shows that the 70B version of Llama 3 is \"surprisingly capable\" given its size. \\n'"
      ]
     },
     "execution_count": 95,
     "metadata": {},
     "output_type": "execute_result"
    }
   ],
   "source": [
    "app4.invoke(inputs)"
   ]
  },
  {
   "cell_type": "code",
   "execution_count": 96,
   "id": "6a836831",
   "metadata": {},
   "outputs": [
    {
     "name": "stdout",
     "output_type": "stream",
     "text": [
      "LLM output is {'messages': ['Tell me about llama3 model', 'Llama 3 is an open-source large language model released by Meta AI. \\n', 'True. \\n']}\n",
      "RAGtool output is Llama 3 is a state-of-the-art model, comparable to PaLM and Chinchilla. Meta AI has found it to be \"surprisingly capable\" for its size.  The weights for the first version of Llama were released to the research community. \n",
      "\n"
     ]
    }
   ],
   "source": [
    "for node in app4.stream(inputs):\n",
    "    for func,out in node.items():\n",
    "        print(f\"{func} output is {out}\")"
   ]
  },
  {
   "cell_type": "markdown",
   "id": "546a0e11",
   "metadata": {},
   "source": [
    "### Conditional Workflow"
   ]
  },
  {
   "cell_type": "code",
   "execution_count": 98,
   "id": "7627c81e",
   "metadata": {},
   "outputs": [
    {
     "data": {
      "text/plain": [
       "42"
      ]
     },
     "execution_count": 98,
     "metadata": {},
     "output_type": "execute_result"
    }
   ],
   "source": [
    "docs = DirectoryLoader(\"../data\",glob=\"./india_economy*.txt\",loader_cls=TextLoader).load()\n",
    "splitter_docs = splitter.split_documents(docs)\n",
    "len(splitter_docs)"
   ]
  },
  {
   "cell_type": "code",
   "execution_count": 99,
   "id": "f08c1920",
   "metadata": {},
   "outputs": [
    {
     "data": {
      "text/plain": [
       "Document(metadata={'source': '..\\\\data\\\\india_economy.txt'}, page_content='Industrial Revival and Economic Optimism for India')"
      ]
     },
     "execution_count": 99,
     "metadata": {},
     "output_type": "execute_result"
    }
   ],
   "source": [
    "splitter_docs[0]"
   ]
  },
  {
   "cell_type": "code",
   "execution_count": 101,
   "id": "d4d4ac8f",
   "metadata": {},
   "outputs": [],
   "source": [
    "vector = Chroma.from_documents(splitter_docs,embeddings,persist_directory=\"./economy_chroma_db\")\n",
    "vector.persist()\n",
    "retriever = vector.as_retriever(search_kwargs={\"k\":5})"
   ]
  },
  {
   "cell_type": "code",
   "execution_count": 103,
   "id": "5e358215",
   "metadata": {},
   "outputs": [
    {
     "name": "stderr",
     "output_type": "stream",
     "text": [
      "C:\\Users\\Narendra\\AppData\\Local\\Temp\\ipykernel_18612\\2821110247.py:2: LangChainDeprecationWarning: The method `BaseRetriever.get_relevant_documents` was deprecated in langchain-core 0.1.46 and will be removed in 1.0. Use :meth:`~invoke` instead.\n",
      "  retriever.get_relevant_documents(query)\n"
     ]
    },
    {
     "data": {
      "text/plain": [
       "[Document(metadata={'source': '..\\\\data\\\\india_economy.txt'}, page_content='Year\\tGDP\\n2022\\t$3,517.24B\\n2021\\t$3,173.04B\\n2020\\t$2,935.57B\\n2019\\t$2,869.45B\\n2018\\t$2,715.50B'),\n",
       " Document(metadata={'source': '..\\\\data\\\\india_economy.txt'}, page_content='India’s last eight years of GDP (hypothetical data):'),\n",
       " Document(metadata={'source': '..\\\\data\\\\india_economy.txt'}, page_content='sectors, government actions, and broader economic trends shaping India’s economy.'),\n",
       " Document(metadata={'source': '..\\\\data\\\\india_economy.txt'}, page_content='outlook for India’s economy. “We are encouraged by the steady rise in domestic consumption and'),\n",
       " Document(metadata={'source': '..\\\\data\\\\india_economy.txt'}, page_content='2017\\t$2,652.10B\\n2016\\t$2,479.15B\\n2015\\t$2,390.78B')]"
      ]
     },
     "execution_count": 103,
     "metadata": {},
     "output_type": "execute_result"
    }
   ],
   "source": [
    "query = \"What is India GDP in 2021?\"\n",
    "retriever.get_relevant_documents(query)"
   ]
  },
  {
   "cell_type": "code",
   "execution_count": 106,
   "id": "10c4da34",
   "metadata": {},
   "outputs": [],
   "source": [
    "from typing import TypedDict,Annotated,Sequence\n",
    "from pydantic import BaseModel, Field\n",
    "import operator\n",
    "from langchain_core.messages import BaseMessage\n",
    "from langchain.prompts import PromptTemplate"
   ]
  },
  {
   "cell_type": "code",
   "execution_count": 105,
   "id": "46ec2905",
   "metadata": {},
   "outputs": [],
   "source": [
    "\n",
    "\n",
    "class AgentState(TypedDict):\n",
    "    # The 'messages' field should be a sequence of strings, and we annotate it with 'operator.add'\n",
    "    # This implies we might want to \"add\" new messages to the sequence later\n",
    "    messages: Annotated[Sequence[BaseMessage], operator.add]\n",
    "\n"
   ]
  },
  {
   "cell_type": "code",
   "execution_count": 109,
   "id": "e92d7bdb",
   "metadata": {},
   "outputs": [],
   "source": [
    "class TopicSelectionParser(BaseModel):\n",
    "    Topic : str = Field(description=\"Denotes Topic\")\n",
    "    Reasoning : str = Field(description='Reasoning behind topic selection')"
   ]
  },
  {
   "cell_type": "code",
   "execution_count": 110,
   "id": "da3fb0b3",
   "metadata": {},
   "outputs": [],
   "source": [
    "from langchain.output_parsers import PydanticOutputParser\n",
    "parser = PydanticOutputParser(pydantic_object=TopicSelectionParser)"
   ]
  },
  {
   "cell_type": "code",
   "execution_count": 111,
   "id": "24a61ed8",
   "metadata": {},
   "outputs": [
    {
     "name": "stdout",
     "output_type": "stream",
     "text": [
      "The output should be formatted as a JSON instance that conforms to the JSON schema below.\n",
      "\n",
      "As an example, for the schema {\"properties\": {\"foo\": {\"title\": \"Foo\", \"description\": \"a list of strings\", \"type\": \"array\", \"items\": {\"type\": \"string\"}}}, \"required\": [\"foo\"]}\n",
      "the object {\"foo\": [\"bar\", \"baz\"]} is a well-formatted instance of the schema. The object {\"properties\": {\"foo\": [\"bar\", \"baz\"]}} is not well-formatted.\n",
      "\n",
      "Here is the output schema:\n",
      "```\n",
      "{\"properties\": {\"Topic\": {\"description\": \"Denotes Topic\", \"title\": \"Topic\", \"type\": \"string\"}, \"Reasoning\": {\"description\": \"Reasoning behind topic selection\", \"title\": \"Reasoning\", \"type\": \"string\"}}, \"required\": [\"Topic\", \"Reasoning\"]}\n",
      "```\n"
     ]
    }
   ],
   "source": [
    "print(parser.get_format_instructions())"
   ]
  },
  {
   "cell_type": "code",
   "execution_count": 118,
   "id": "788d910f",
   "metadata": {},
   "outputs": [],
   "source": [
    "def function_1(state):\n",
    "    messages = state[\"messages\"]\n",
    "    question = messages[-1]\n",
    "    template=\"\"\"\n",
    "    Your task is to classify the given user query into one of the following categories: [India, Not Related]. \n",
    "    Only respond with the category name and nothing else.\n",
    "\n",
    "    User query: {question}\n",
    "    {format_instructions}\n",
    "    \"\"\"\n",
    "    prompt = PromptTemplate(template=template,\n",
    "                            input_variables=['question'],\n",
    "                            partial_variables={\"format_instructions\":parser.get_format_instructions()})\n",
    "    chain =  prompt | llm | parser\n",
    "    response = chain.invoke({'question':question,\"format_instructions\":parser.get_format_instructions()})\n",
    "    print(\"RESPONSE : \",response)\n",
    "    return {\"messages\": [response.Topic]}"
   ]
  },
  {
   "cell_type": "code",
   "execution_count": 119,
   "id": "cb4cbb3e",
   "metadata": {},
   "outputs": [
    {
     "name": "stdout",
     "output_type": "stream",
     "text": [
      "RESPONSE :  Topic='India' Reasoning=\"The query directly asks for information about India's industrial growth.\"\n"
     ]
    },
    {
     "data": {
      "text/plain": [
       "{'messages': ['India']}"
      ]
     },
     "execution_count": 119,
     "metadata": {},
     "output_type": "execute_result"
    }
   ],
   "source": [
    "state={\"messages\": [\"Tell me about India's Industrial Growth\"]}\n",
    "function_1(state)"
   ]
  },
  {
   "cell_type": "code",
   "execution_count": null,
   "id": "8dbf184b",
   "metadata": {},
   "outputs": [],
   "source": [
    "def router(state):\n",
    "    \n",
    "    print('-> Router ->')\n",
    "    messages = state[\"messages\"]\n",
    "    last_message = messages[-1]\n",
    "    print(last_message)\n",
    "    if 'India' in last_message:\n",
    "        return 'RAG Call'\n",
    "    else:\n",
    "        return 'LLM Call'"
   ]
  },
  {
   "cell_type": "code",
   "execution_count": 147,
   "id": "1da70b56",
   "metadata": {},
   "outputs": [],
   "source": [
    "def rag_call(state):\n",
    "    print('-> RAG Call ->')\n",
    "    messages = state['messages']\n",
    "    question = messages[0]  # Fetching the user question\n",
    "\n",
    "    # Define prompt template\n",
    "    template = \"\"\"Answer the question based only on the following context:\n",
    "{context}\n",
    "\n",
    "Question: {question}\n",
    "\"\"\"\n",
    "    prompt = PromptTemplate(template=template, input_variables=['question', 'context'])\n",
    "\n",
    "    # Get context using retriever\n",
    "    context = retriever.invoke(question)\n",
    "\n",
    "    # Format the prompt with context and question\n",
    "    formatted_prompt = prompt.format(question=question, context=context)\n",
    "\n",
    "    # Run the LLM\n",
    "    res = llm.invoke(formatted_prompt).content\n",
    "\n",
    "    return {\"messages\": [res]}\n"
   ]
  },
  {
   "cell_type": "code",
   "execution_count": 138,
   "id": "19274594",
   "metadata": {},
   "outputs": [],
   "source": [
    "def llm_call(state):\n",
    "    \n",
    "    print('-> LLM Call ->')\n",
    "    messages = state['messages']\n",
    "    question = messages[0] ## Fetching the user question\n",
    "    chain =  llm | StrOutputParser()\n",
    "    res = chain.invoke(question)\n",
    "    return {\"messages\": [res]}"
   ]
  },
  {
   "cell_type": "code",
   "execution_count": 139,
   "id": "3e53a553",
   "metadata": {},
   "outputs": [],
   "source": [
    "from langgraph.graph import StateGraph,END"
   ]
  },
  {
   "cell_type": "code",
   "execution_count": 143,
   "id": "7f26e106",
   "metadata": {},
   "outputs": [],
   "source": [
    "workflow5 = StateGraph(AgentState) ### StateGraph with AgentState\n",
    "workflow5.add_node(\"agent\", function_1)\n",
    "workflow5.add_node(\"RAG\", rag_call)\n",
    "workflow5.add_node(\"LLM\", llm_call)\n",
    "workflow5.set_entry_point(\"agent\")\n",
    "workflow5.add_conditional_edges(\n",
    "    \"agent\",\n",
    "    router,\n",
    "    {\n",
    "        \"RAG Call\": \"RAG\",\n",
    "        \"LLM Call\": \"LLM\"\n",
    "    }\n",
    ")\n",
    "workflow5.add_edge(\"RAG\",END)\n",
    "workflow5.add_edge(\"LLM\",END)\n",
    "app5 = workflow5.compile()\n"
   ]
  },
  {
   "cell_type": "code",
   "execution_count": 126,
   "id": "a8708565",
   "metadata": {},
   "outputs": [
    {
     "data": {
      "image/png": "[encoded data removed]",
      "text/plain": [
       "<IPython.core.display.Image object>"
      ]
     },
     "metadata": {},
     "output_type": "display_data"
    }
   ],
   "source": [
    "display(Image(app5.get_graph().draw_mermaid_png()))"
   ]
  },
  {
   "cell_type": "code",
   "execution_count": 148,
   "id": "4779f97a",
   "metadata": {},
   "outputs": [
    {
     "name": "stdout",
     "output_type": "stream",
     "text": [
      "RESPONSE :  Topic='India' Reasoning=\"The query is about India's Industrial Growth\"\n",
      "India\n",
      "-> RAG Call ->\n"
     ]
    },
    {
     "data": {
      "text/plain": [
       "{'messages': [\"Tell me about India's Industrial Growth\",\n",
       "  'India',\n",
       "  AIMessage(content=\"India's industrial growth has outpaced expectations, raising hopes that the economy will avoid a [remainder of the sentence is cut off]. \\n\", additional_kwargs={}, response_metadata={'token_usage': {'completion_tokens': 31, 'prompt_tokens': 211, 'total_tokens': 242, 'completion_time': 0.056363636, 'prompt_time': 0.008791558, 'queue_time': 0.23838590199999998, 'total_time': 0.065155194}, 'model_name': 'Gemma2-9b-It', 'system_fingerprint': 'fp_10c08bf97d', 'finish_reason': 'stop', 'logprobs': None}, id='run-f7d9866b-38a9-4f40-9c19-f1161f73fd4f-0', usage_metadata={'input_tokens': 211, 'output_tokens': 31, 'total_tokens': 242})]}"
      ]
     },
     "execution_count": 148,
     "metadata": {},
     "output_type": "execute_result"
    }
   ],
   "source": [
    "inputs = {\"messages\": [\"Tell me about India's Industrial Growth\"]}\n",
    "response = app5.invoke(inputs) \n",
    "response"
   ]
  },
  {
   "cell_type": "code",
   "execution_count": 146,
   "id": "b496a26a",
   "metadata": {},
   "outputs": [
    {
     "name": "stdout",
     "output_type": "stream",
     "text": [
      "RESPONSE :  Topic='Not Related' Reasoning='Query is about USA president, not India.'\n",
      "Not Related\n",
      "-> LLM Call ->\n",
      "{'messages': ['who is a president of USA?', 'Not Related', 'The current president of the United States is **Joe Biden**. \\n']}\n"
     ]
    }
   ],
   "source": [
    "inputs = {\"messages\": [\"who is a president of USA?\"]}\n",
    "output = app5.invoke(inputs)\n",
    "print(output)"
   ]
  },
  {
   "cell_type": "code",
   "execution_count": null,
   "id": "086e8c75",
   "metadata": {},
   "outputs": [],
   "source": []
  }
 ],
 "metadata": {
  "kernelspec": {
   "display_name": ".venv",
   "language": "python",
   "name": "python3"
  },
  "language_info": {
   "codemirror_mode": {
    "name": "ipython",
    "version": 3
   },
   "file_extension": ".py",
   "mimetype": "text/x-python",
   "name": "python",
   "nbconvert_exporter": "python",
   "pygments_lexer": "ipython3",
   "version": "3.12.9"
  }
 },
 "nbformat": 4,
 "nbformat_minor": 5
}
