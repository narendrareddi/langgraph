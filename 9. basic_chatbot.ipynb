{
 "cells": [
  {
   "cell_type": "code",
   "execution_count": 1,
   "id": "18187762",
   "metadata": {},
   "outputs": [
    {
     "data": {
      "text/plain": [
       "True"
      ]
     },
     "execution_count": 1,
     "metadata": {},
     "output_type": "execute_result"
    }
   ],
   "source": [
    "from langchain_google_genai import ChatGoogleGenerativeAI\n",
    "from langgraph.graph import StateGraph,START,END\n",
    "from typing import TypedDict,Annotated\n",
    "from dotenv import load_dotenv\n",
    "load_dotenv()"
   ]
  },
  {
   "cell_type": "code",
   "execution_count": 2,
   "id": "b499d766",
   "metadata": {},
   "outputs": [],
   "source": [
    "llm = ChatGoogleGenerativeAI(model='gemini-2.0-flash')"
   ]
  },
  {
   "cell_type": "code",
   "execution_count": 3,
   "id": "e67d8485",
   "metadata": {},
   "outputs": [],
   "source": [
    "from langchain_core.messages import BaseMessage\n",
    "from langgraph.graph.message import add_messages\n",
    "class ChatHistoryState(TypedDict):\n",
    "    messages : Annotated[list[BaseMessage],add_messages]"
   ]
  },
  {
   "cell_type": "code",
   "execution_count": 4,
   "id": "39d13930",
   "metadata": {},
   "outputs": [],
   "source": [
    "def call_llm(state:ChatHistoryState):\n",
    "    question = state['messages'][-1]\n",
    "    response = llm.invoke(question.content)\n",
    "    return {'messages':[response]}"
   ]
  },
  {
   "cell_type": "code",
   "execution_count": 5,
   "id": "b0eb1061",
   "metadata": {},
   "outputs": [
    {
     "data": {
      "image/png": "[encoded data removed]",
      "text/plain": [
       "<langgraph.graph.state.CompiledStateGraph object at 0x0000020B71497590>"
      ]
     },
     "execution_count": 5,
     "metadata": {},
     "output_type": "execute_result"
    }
   ],
   "source": [
    "graph = StateGraph(ChatHistoryState)\n",
    "graph.add_node(\"LLM\",call_llm)\n",
    "graph.add_edge(START,\"LLM\")\n",
    "graph.add_edge(\"LLM\",END)\n",
    "workflow = graph.compile()\n",
    "workflow"
   ]
  },
  {
   "cell_type": "code",
   "execution_count": 6,
   "id": "2b47ded4",
   "metadata": {},
   "outputs": [
    {
     "data": {
      "text/plain": [
       "{'messages': [HumanMessage(content='Hi, I am Alien', additional_kwargs={}, response_metadata={}, id='092f8cfd-98e0-49b0-9baa-2aad49687e5c'),\n",
       "  AIMessage(content=\"Greetings, Alien! It's fascinating to communicate with someone from beyond Earth. What brings you here? I'm ready to answer your questions, discuss interesting topics, or simply learn more about you and your civilization. Please, tell me more about yourself! What are you curious about?\", additional_kwargs={}, response_metadata={'prompt_feedback': {'block_reason': 0, 'safety_ratings': []}, 'finish_reason': 'STOP', 'model_name': 'gemini-2.0-flash', 'safety_ratings': []}, id='run--aaf8b2c9-3dcc-4ef1-a918-06051f2ce252-0', usage_metadata={'input_tokens': 5, 'output_tokens': 59, 'total_tokens': 64, 'input_token_details': {'cache_read': 0}})]}"
      ]
     },
     "execution_count": 6,
     "metadata": {},
     "output_type": "execute_result"
    }
   ],
   "source": [
    "workflow.invoke({'messages':'Hi, I am Alien'})"
   ]
  },
  {
   "cell_type": "code",
   "execution_count": 7,
   "id": "8171c7dd",
   "metadata": {},
   "outputs": [
    {
     "data": {
      "text/plain": [
       "{'messages': [HumanMessage(content='who am i?', additional_kwargs={}, response_metadata={}, id='43395466-4325-4e1a-bfc6-1892ab137417'),\n",
       "  AIMessage(content='To figure out who you are, I need some information!  Think about these questions:\\n\\n*   **Are you asking as a person or as a concept?**\\n*   **Are you a real person or fictional?**\\n\\nThe more you can tell me, the better chance I have of guessing correctly.', additional_kwargs={}, response_metadata={'prompt_feedback': {'block_reason': 0, 'safety_ratings': []}, 'finish_reason': 'STOP', 'model_name': 'gemini-2.0-flash', 'safety_ratings': []}, id='run--d2082e3d-835b-4be9-a2d0-e09bc603803e-0', usage_metadata={'input_tokens': 4, 'output_tokens': 64, 'total_tokens': 68, 'input_token_details': {'cache_read': 0}})]}"
      ]
     },
     "execution_count": 7,
     "metadata": {},
     "output_type": "execute_result"
    }
   ],
   "source": [
    "workflow.invoke({'messages':'who am i?'})"
   ]
  },
  {
   "cell_type": "code",
   "execution_count": 8,
   "id": "acf6b9bc",
   "metadata": {},
   "outputs": [
    {
     "name": "stdout",
     "output_type": "stream",
     "text": [
      "USER :  Hi, I am Alien\n",
      "AI :  Greetings, Alien! It's fascinating to communicate with someone from beyond Earth. Welcome to our corner of the universe (the internet, at least!).\n",
      "\n",
      "To better understand how I can help you, could you tell me a bit more about what you're looking for? For example:\n",
      "\n",
      "*   **What brings you here?** Are you exploring, researching, just curious, or something else?\n",
      "*   **Is there anything you'd like to know about Earth, humans, or anything else?**\n",
      "*   **Do you have a specific goal in mind for our conversation?**\n",
      "\n",
      "I'm eager to learn more about you and your perspective. Please, feel free to share anything you're comfortable with.\n",
      "USER :  Are you scared of me?\n",
      "AI :  As a large language model, I don't experience emotions like fear. I don't have a physical body or a sense of self to protect. My purpose is to process information and respond to your requests. So, no, I am not scared of you.\n",
      "USER :  who am i?\n",
      "AI :  To figure out who you are, I need some more information! I'm an AI, so I don't know anything about you personally.\n",
      "\n",
      "Tell me something about yourself, like:\n",
      "\n",
      "*   **Are you asking in the context of a riddle?** If so, give me some clues!\n",
      "*   **Are you asking me to guess your profession or role?** Give me some hints about what you do.\n",
      "*   **Are you asking a philosophical question about your identity?** If so, tell me what aspects of yourself you're thinking about.\n",
      "*   **Are you playing a game?** Tell me the rules.\n",
      "\n",
      "The more you tell me, the better chance I have of figuring out who you are!\n",
      "USER :  add 5 to 50\n",
      "AI :  5 + 50 = 55\n",
      "USER :  add 10 more to that\n",
      "AI :  Okay, I need some more information! \"Add 10 more to that\" implies there's a number I'm supposed to be adding to. \n",
      "\n",
      "Please tell me:\n",
      "\n",
      "*   **What is the starting number?**\n",
      "\n",
      "For example, you could say:\n",
      "\n",
      "*   \"Add 10 more to 5\"\n",
      "*   \"Add 10 more to 27\"\n",
      "*   \"Add 10 more to the result of 15 + 3\"\n",
      "\n",
      "Once you give me the initial number, I can add 10 to it.\n",
      "USER :  bye\n"
     ]
    }
   ],
   "source": [
    "while True:\n",
    "    question = input('ask here')\n",
    "    print('USER : ',question)\n",
    "    if question.strip().lower() in ('exit','bye'):\n",
    "        break\n",
    "    else:\n",
    "        response = workflow.invoke({'messages':question})\n",
    "        print('AI : ',response['messages'][-1].content)"
   ]
  },
  {
   "cell_type": "code",
   "execution_count": 26,
   "id": "d56d553e",
   "metadata": {},
   "outputs": [],
   "source": [
    "from langgraph.checkpoint.memory import MemorySaver\n",
    "memory = MemorySaver() # Store in RAM, Stores till Environment active\n",
    "config = {'configurable':{'thread_id':'thread_3'}}"
   ]
  },
  {
   "cell_type": "code",
   "execution_count": 27,
   "id": "dacfd508",
   "metadata": {},
   "outputs": [],
   "source": [
    "graph = StateGraph(ChatHistoryState)\n",
    "graph.add_node(\"LLM\",call_llm)\n",
    "graph.add_edge(START,\"LLM\")\n",
    "graph.add_edge(\"LLM\",END)\n",
    "memory_workflow = graph.compile(checkpointer = memory)"
   ]
  },
  {
   "cell_type": "code",
   "execution_count": 28,
   "id": "10d9e513",
   "metadata": {},
   "outputs": [
    {
     "name": "stdout",
     "output_type": "stream",
     "text": [
      "USER :  add 5 to 50\n",
      "AI :  5 + 50 = 55\n",
      "USER :  add 2 more\n",
      "AI :  Okay, I'm ready! To add two more, I need to know:\n",
      "\n",
      "*   **What are we adding to?** Please provide the initial list, idea, or context. For example:\n",
      "    *   \"Add 2 more items to this shopping list: milk, bread, eggs\"\n",
      "    *   \"Add 2 more ideas to this brainstorming session about renewable energy\"\n",
      "    *   \"Add 2 more steps to this recipe for chocolate chip cookies\"\n",
      "\n",
      "Once you provide the context, I can give you two relevant additions.\n",
      "USER :  bye\n"
     ]
    }
   ],
   "source": [
    "while True:\n",
    "    question = input('ask here')\n",
    "    print('USER : ',question)\n",
    "    if question.strip().lower() in ('exit','bye'):\n",
    "        break\n",
    "    else:\n",
    "        response = memory_workflow.invoke({'messages':[question]},config=config)\n",
    "        print('AI : ',response['messages'][-1].content)"
   ]
  },
  {
   "cell_type": "code",
   "execution_count": 29,
   "id": "c544b57e",
   "metadata": {},
   "outputs": [
    {
     "data": {
      "text/plain": [
       "{'messages': [HumanMessage(content='add 5 to 50', additional_kwargs={}, response_metadata={}, id='748612cf-5cff-4b2c-80d2-af3b29d4c1dd'),\n",
       "  AIMessage(content='5 + 50 = 55', additional_kwargs={}, response_metadata={'prompt_feedback': {'block_reason': 0, 'safety_ratings': []}, 'finish_reason': 'STOP', 'model_name': 'gemini-2.0-flash', 'safety_ratings': []}, id='run--a3ab2229-12f2-4d53-95c0-8c412c9c519c-0', usage_metadata={'input_tokens': 7, 'output_tokens': 10, 'total_tokens': 17, 'input_token_details': {'cache_read': 0}}),\n",
       "  HumanMessage(content='add 2 more', additional_kwargs={}, response_metadata={}, id='854d896c-46e0-4f7b-a605-8f776ad8c9ab'),\n",
       "  AIMessage(content='Okay, I\\'m ready! To add two more, I need to know:\\n\\n*   **What are we adding to?** Please provide the initial list, idea, or context. For example:\\n    *   \"Add 2 more items to this shopping list: milk, bread, eggs\"\\n    *   \"Add 2 more ideas to this brainstorming session about renewable energy\"\\n    *   \"Add 2 more steps to this recipe for chocolate chip cookies\"\\n\\nOnce you provide the context, I can give you two relevant additions.', additional_kwargs={}, response_metadata={'prompt_feedback': {'block_reason': 0, 'safety_ratings': []}, 'finish_reason': 'STOP', 'model_name': 'gemini-2.0-flash', 'safety_ratings': []}, id='run--634f05d8-3cb0-4262-9483-c9670a4f2430-0', usage_metadata={'input_tokens': 4, 'output_tokens': 114, 'total_tokens': 118, 'input_token_details': {'cache_read': 0}})]}"
      ]
     },
     "execution_count": 29,
     "metadata": {},
     "output_type": "execute_result"
    }
   ],
   "source": [
    "memory_workflow.get_state(config).values"
   ]
  },
  {
   "cell_type": "code",
   "execution_count": null,
   "id": "0a9572fd",
   "metadata": {},
   "outputs": [],
   "source": []
  }
 ],
 "metadata": {
  "kernelspec": {
   "display_name": ".venv",
   "language": "python",
   "name": "python3"
  },
  "language_info": {
   "codemirror_mode": {
    "name": "ipython",
    "version": 3
   },
   "file_extension": ".py",
   "mimetype": "text/x-python",
   "name": "python",
   "nbconvert_exporter": "python",
   "pygments_lexer": "ipython3",
   "version": "3.12.7"
  }
 },
 "nbformat": 4,
 "nbformat_minor": 5
}
