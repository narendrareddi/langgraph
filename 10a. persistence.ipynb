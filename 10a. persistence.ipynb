{
 "cells": [
  {
   "cell_type": "code",
   "execution_count": 2,
   "id": "939263df",
   "metadata": {},
   "outputs": [],
   "source": [
    "from langgraph.graph import StateGraph, START, END\n",
    "from typing import TypedDict\n",
    "from langchain_google_genai import ChatGoogleGenerativeAI\n",
    "from dotenv import load_dotenv\n",
    "from langgraph.checkpoint.memory import InMemorySaver"
   ]
  },
  {
   "cell_type": "code",
   "execution_count": 3,
   "id": "4d2c5e6a",
   "metadata": {},
   "outputs": [],
   "source": [
    "load_dotenv()\n",
    "llm = ChatGoogleGenerativeAI(model='gemini-2.0-flash')"
   ]
  },
  {
   "cell_type": "code",
   "execution_count": 4,
   "id": "ad5c74b2",
   "metadata": {},
   "outputs": [],
   "source": [
    "class JokeState(TypedDict):\n",
    "\n",
    "    topic: str\n",
    "    joke: str\n",
    "    explanation: str"
   ]
  },
  {
   "cell_type": "code",
   "execution_count": 5,
   "id": "8a3c89a8",
   "metadata": {},
   "outputs": [],
   "source": [
    "def generate_joke(state: JokeState):\n",
    "\n",
    "    prompt = f'generate a joke on the topic {state[\"topic\"]}'\n",
    "    response = llm.invoke(prompt).content\n",
    "\n",
    "    return {'joke': response}"
   ]
  },
  {
   "cell_type": "code",
   "execution_count": 6,
   "id": "cd8272ec",
   "metadata": {},
   "outputs": [],
   "source": [
    "def generate_explanation(state: JokeState):\n",
    "\n",
    "    prompt = f'write an explanation for the joke - {state[\"joke\"]}'\n",
    "    response = llm.invoke(prompt).content\n",
    "\n",
    "    return {'explanation': response}"
   ]
  },
  {
   "cell_type": "code",
   "execution_count": 7,
   "id": "02776bdc",
   "metadata": {},
   "outputs": [],
   "source": [
    "graph = StateGraph(JokeState)\n",
    "\n",
    "graph.add_node('generate_joke', generate_joke)\n",
    "graph.add_node('generate_explanation', generate_explanation)\n",
    "\n",
    "graph.add_edge(START, 'generate_joke')\n",
    "graph.add_edge('generate_joke', 'generate_explanation')\n",
    "graph.add_edge('generate_explanation', END)\n",
    "\n",
    "checkpointer = InMemorySaver()\n",
    "\n",
    "workflow = graph.compile(checkpointer=checkpointer)"
   ]
  },
  {
   "cell_type": "code",
   "execution_count": 8,
   "id": "f20a14fc",
   "metadata": {},
   "outputs": [
    {
     "data": {
      "text/plain": [
       "{'topic': 'pizza',\n",
       " 'joke': 'Why did the pizza maker quit his job?\\n\\nBecause he was tired of getting dough-minated!',\n",
       " 'explanation': 'The joke plays on two things:\\n\\n1. **The word \"dominated\":** This word means to be controlled or ruled by someone or something. In a work context, it can imply a boss or work environment that is overly controlling.\\n\\n2. **The word \"dough\":** This is the main ingredient for pizza crust.  The joke substitutes \"dough\" for the \"do\" in \"dominated,\" creating the pun \"dough-minated.\"\\n\\nTherefore, the pizza maker quit because he was tired of being \"dough-minated\" - a humorous way of saying he was tired of being controlled, likely by his boss or the demanding nature of the job involving constant work with dough. The humor comes from the unexpected and relevant wordplay.'}"
      ]
     },
     "execution_count": 8,
     "metadata": {},
     "output_type": "execute_result"
    }
   ],
   "source": [
    "config1 = {\"configurable\": {\"thread_id\": \"1\"}}\n",
    "workflow.invoke({'topic':'pizza'}, config=config1)"
   ]
  },
  {
   "cell_type": "code",
   "execution_count": 9,
   "id": "4661785f",
   "metadata": {},
   "outputs": [
    {
     "data": {
      "text/plain": [
       "StateSnapshot(values={'topic': 'pizza', 'joke': 'Why did the pizza maker quit his job?\\n\\nBecause he was tired of getting dough-minated!', 'explanation': 'The joke plays on two things:\\n\\n1. **The word \"dominated\":** This word means to be controlled or ruled by someone or something. In a work context, it can imply a boss or work environment that is overly controlling.\\n\\n2. **The word \"dough\":** This is the main ingredient for pizza crust.  The joke substitutes \"dough\" for the \"do\" in \"dominated,\" creating the pun \"dough-minated.\"\\n\\nTherefore, the pizza maker quit because he was tired of being \"dough-minated\" - a humorous way of saying he was tired of being controlled, likely by his boss or the demanding nature of the job involving constant work with dough. The humor comes from the unexpected and relevant wordplay.'}, next=(), config={'configurable': {'thread_id': '1', 'checkpoint_ns': '', 'checkpoint_id': '1f0813fb-3901-6c58-8002-b93126337346'}}, metadata={'source': 'loop', 'step': 2, 'parents': {}}, created_at='2025-08-24T23:11:44.397423+00:00', parent_config={'configurable': {'thread_id': '1', 'checkpoint_ns': '', 'checkpoint_id': '1f0813fb-2ad9-6a45-8001-567b5460f172'}}, tasks=(), interrupts=())"
      ]
     },
     "execution_count": 9,
     "metadata": {},
     "output_type": "execute_result"
    }
   ],
   "source": [
    "\n",
    "workflow.get_state(config1)"
   ]
  },
  {
   "cell_type": "code",
   "execution_count": 10,
   "id": "c86cb252",
   "metadata": {},
   "outputs": [
    {
     "data": {
      "text/plain": [
       "[StateSnapshot(values={'topic': 'pizza', 'joke': 'Why did the pizza maker quit his job?\\n\\nBecause he was tired of getting dough-minated!', 'explanation': 'The joke plays on two things:\\n\\n1. **The word \"dominated\":** This word means to be controlled or ruled by someone or something. In a work context, it can imply a boss or work environment that is overly controlling.\\n\\n2. **The word \"dough\":** This is the main ingredient for pizza crust.  The joke substitutes \"dough\" for the \"do\" in \"dominated,\" creating the pun \"dough-minated.\"\\n\\nTherefore, the pizza maker quit because he was tired of being \"dough-minated\" - a humorous way of saying he was tired of being controlled, likely by his boss or the demanding nature of the job involving constant work with dough. The humor comes from the unexpected and relevant wordplay.'}, next=(), config={'configurable': {'thread_id': '1', 'checkpoint_ns': '', 'checkpoint_id': '1f0813fb-3901-6c58-8002-b93126337346'}}, metadata={'source': 'loop', 'step': 2, 'parents': {}}, created_at='2025-08-24T23:11:44.397423+00:00', parent_config={'configurable': {'thread_id': '1', 'checkpoint_ns': '', 'checkpoint_id': '1f0813fb-2ad9-6a45-8001-567b5460f172'}}, tasks=(), interrupts=()),\n",
       " StateSnapshot(values={'topic': 'pizza', 'joke': 'Why did the pizza maker quit his job?\\n\\nBecause he was tired of getting dough-minated!'}, next=('generate_explanation',), config={'configurable': {'thread_id': '1', 'checkpoint_ns': '', 'checkpoint_id': '1f0813fb-2ad9-6a45-8001-567b5460f172'}}, metadata={'source': 'loop', 'step': 1, 'parents': {}}, created_at='2025-08-24T23:11:42.912979+00:00', parent_config={'configurable': {'thread_id': '1', 'checkpoint_ns': '', 'checkpoint_id': '1f0813fb-23be-61bf-8000-8bd827779e92'}}, tasks=(PregelTask(id='7d0bc49e-8f19-6eb2-1237-b820d424b155', name='generate_explanation', path=('__pregel_pull', 'generate_explanation'), error=None, interrupts=(), state=None, result={'explanation': 'The joke plays on two things:\\n\\n1. **The word \"dominated\":** This word means to be controlled or ruled by someone or something. In a work context, it can imply a boss or work environment that is overly controlling.\\n\\n2. **The word \"dough\":** This is the main ingredient for pizza crust.  The joke substitutes \"dough\" for the \"do\" in \"dominated,\" creating the pun \"dough-minated.\"\\n\\nTherefore, the pizza maker quit because he was tired of being \"dough-minated\" - a humorous way of saying he was tired of being controlled, likely by his boss or the demanding nature of the job involving constant work with dough. The humor comes from the unexpected and relevant wordplay.'}),), interrupts=()),\n",
       " StateSnapshot(values={'topic': 'pizza'}, next=('generate_joke',), config={'configurable': {'thread_id': '1', 'checkpoint_ns': '', 'checkpoint_id': '1f0813fb-23be-61bf-8000-8bd827779e92'}}, metadata={'source': 'loop', 'step': 0, 'parents': {}}, created_at='2025-08-24T23:11:42.167699+00:00', parent_config={'configurable': {'thread_id': '1', 'checkpoint_ns': '', 'checkpoint_id': '1f0813fb-23bb-6ad9-bfff-5213aaca9366'}}, tasks=(PregelTask(id='342d7d56-620c-ed9b-4c16-0ebb6881c4ac', name='generate_joke', path=('__pregel_pull', 'generate_joke'), error=None, interrupts=(), state=None, result={'joke': 'Why did the pizza maker quit his job?\\n\\nBecause he was tired of getting dough-minated!'}),), interrupts=()),\n",
       " StateSnapshot(values={}, next=('__start__',), config={'configurable': {'thread_id': '1', 'checkpoint_ns': '', 'checkpoint_id': '1f0813fb-23bb-6ad9-bfff-5213aaca9366'}}, metadata={'source': 'input', 'step': -1, 'parents': {}}, created_at='2025-08-24T23:11:42.166703+00:00', parent_config=None, tasks=(PregelTask(id='932abf2e-0c81-3867-52fd-c45ecb887b27', name='__start__', path=('__pregel_pull', '__start__'), error=None, interrupts=(), state=None, result={'topic': 'pizza'}),), interrupts=())]"
      ]
     },
     "execution_count": 10,
     "metadata": {},
     "output_type": "execute_result"
    }
   ],
   "source": [
    "list(workflow.get_state_history(config1))"
   ]
  },
  {
   "cell_type": "code",
   "execution_count": 11,
   "id": "1d82dbd7",
   "metadata": {},
   "outputs": [
    {
     "data": {
      "text/plain": [
       "{'topic': 'pasta',\n",
       " 'joke': 'Why did the spaghetti blush? \\n\\nBecause it saw the meatball, and it was feeling a little saucy!',\n",
       " 'explanation': 'The joke plays on a few layers of wordplay and double entendre:\\n\\n* **Blushing:** Blushing is a physical reaction where someone\\'s face turns red, usually due to embarrassment, shyness, or feeling attracted to someone.  It\\'s a human characteristic.\\n\\n* **Saucy:**  \"Saucy\" has two meanings here:\\n    * **Literal:** Spaghetti is often served with sauce.\\n    * **Figurative:** \"Saucy\" can also mean cheeky, flirtatious, or slightly inappropriate.\\n\\n* **The Setup:** The joke sets up a scenario where spaghetti, an inanimate object, is given human-like qualities (the ability to blush).\\n\\n* **The Punchline:** The punchline reveals the reason for the spaghetti\\'s blush: it saw the meatball and was feeling \"saucy.\"  The joke relies on the double meaning of \"saucy\" to create humor.  The spaghetti is blushing because it\\'s feeling a bit flirtatious (or even sexually suggestive) towards the meatball, which is a funny and unexpected reason.  It\\'s also \"saucy\" because, well, it\\'s pasta, and pasta usually has sauce.\\n\\nIn short, the joke is funny because it personifies spaghetti, uses a double meaning of the word \"saucy,\" and creates an absurd and slightly suggestive scenario.'}"
      ]
     },
     "execution_count": 11,
     "metadata": {},
     "output_type": "execute_result"
    }
   ],
   "source": [
    "config2 = {\"configurable\": {\"thread_id\": \"2\"}}\n",
    "workflow.invoke({'topic':'pasta'}, config=config2)"
   ]
  },
  {
   "cell_type": "code",
   "execution_count": 13,
   "id": "c1559bcd",
   "metadata": {},
   "outputs": [
    {
     "data": {
      "text/plain": [
       "{'configurable': {'thread_id': '2',\n",
       "  'checkpoint_ns': '',\n",
       "  'checkpoint_id': '1f081401-9d9b-6be7-8002-00eac7f607d2'}}"
      ]
     },
     "execution_count": 13,
     "metadata": {},
     "output_type": "execute_result"
    }
   ],
   "source": [
    "workflow.get_state(config2).config"
   ]
  },
  {
   "cell_type": "code",
   "execution_count": 19,
   "id": "87cf169b",
   "metadata": {},
   "outputs": [
    {
     "data": {
      "text/plain": [
       "{'configurable': {'thread_id': '2',\n",
       "  'checkpoint_ns': '',\n",
       "  'checkpoint_id': '1f081401-82a1-60ab-bfff-38d3dc5be219'}}"
      ]
     },
     "execution_count": 19,
     "metadata": {},
     "output_type": "execute_result"
    }
   ],
   "source": [
    "list(workflow.get_state_history(config2))[-1].config"
   ]
  },
  {
   "cell_type": "markdown",
   "id": "fde9c4f6",
   "metadata": {},
   "source": [
    "## Time Travel"
   ]
  },
  {
   "cell_type": "code",
   "execution_count": 22,
   "id": "d56e7b60",
   "metadata": {},
   "outputs": [
    {
     "data": {
      "text/plain": [
       "[StateSnapshot(values={'topic': 'pizza', 'joke': 'Why did the pizza maker quit his job?\\n\\nBecause he was tired of getting dough-minated!', 'explanation': 'The joke plays on two things:\\n\\n1. **The word \"dominated\":** This word means to be controlled or ruled by someone or something. In a work context, it can imply a boss or work environment that is overly controlling.\\n\\n2. **The word \"dough\":** This is the main ingredient for pizza crust.  The joke substitutes \"dough\" for the \"do\" in \"dominated,\" creating the pun \"dough-minated.\"\\n\\nTherefore, the pizza maker quit because he was tired of being \"dough-minated\" - a humorous way of saying he was tired of being controlled, likely by his boss or the demanding nature of the job involving constant work with dough. The humor comes from the unexpected and relevant wordplay.'}, next=(), config={'configurable': {'thread_id': '1', 'checkpoint_ns': '', 'checkpoint_id': '1f0813fb-3901-6c58-8002-b93126337346'}}, metadata={'source': 'loop', 'step': 2, 'parents': {}}, created_at='2025-08-24T23:11:44.397423+00:00', parent_config={'configurable': {'thread_id': '1', 'checkpoint_ns': '', 'checkpoint_id': '1f0813fb-2ad9-6a45-8001-567b5460f172'}}, tasks=(), interrupts=()),\n",
       " StateSnapshot(values={'topic': 'pizza', 'joke': 'Why did the pizza maker quit his job?\\n\\nBecause he was tired of getting dough-minated!'}, next=('generate_explanation',), config={'configurable': {'thread_id': '1', 'checkpoint_ns': '', 'checkpoint_id': '1f0813fb-2ad9-6a45-8001-567b5460f172'}}, metadata={'source': 'loop', 'step': 1, 'parents': {}}, created_at='2025-08-24T23:11:42.912979+00:00', parent_config={'configurable': {'thread_id': '1', 'checkpoint_ns': '', 'checkpoint_id': '1f0813fb-23be-61bf-8000-8bd827779e92'}}, tasks=(PregelTask(id='7d0bc49e-8f19-6eb2-1237-b820d424b155', name='generate_explanation', path=('__pregel_pull', 'generate_explanation'), error=None, interrupts=(), state=None, result={'explanation': 'The joke plays on two things:\\n\\n1. **The word \"dominated\":** This word means to be controlled or ruled by someone or something. In a work context, it can imply a boss or work environment that is overly controlling.\\n\\n2. **The word \"dough\":** This is the main ingredient for pizza crust.  The joke substitutes \"dough\" for the \"do\" in \"dominated,\" creating the pun \"dough-minated.\"\\n\\nTherefore, the pizza maker quit because he was tired of being \"dough-minated\" - a humorous way of saying he was tired of being controlled, likely by his boss or the demanding nature of the job involving constant work with dough. The humor comes from the unexpected and relevant wordplay.'}),), interrupts=()),\n",
       " StateSnapshot(values={'topic': 'pizza'}, next=('generate_joke',), config={'configurable': {'thread_id': '1', 'checkpoint_ns': '', 'checkpoint_id': '1f0813fb-23be-61bf-8000-8bd827779e92'}}, metadata={'source': 'loop', 'step': 0, 'parents': {}}, created_at='2025-08-24T23:11:42.167699+00:00', parent_config={'configurable': {'thread_id': '1', 'checkpoint_ns': '', 'checkpoint_id': '1f0813fb-23bb-6ad9-bfff-5213aaca9366'}}, tasks=(PregelTask(id='342d7d56-620c-ed9b-4c16-0ebb6881c4ac', name='generate_joke', path=('__pregel_pull', 'generate_joke'), error=None, interrupts=(), state=None, result={'joke': 'Why did the pizza maker quit his job?\\n\\nBecause he was tired of getting dough-minated!'}),), interrupts=()),\n",
       " StateSnapshot(values={}, next=('__start__',), config={'configurable': {'thread_id': '1', 'checkpoint_ns': '', 'checkpoint_id': '1f0813fb-23bb-6ad9-bfff-5213aaca9366'}}, metadata={'source': 'input', 'step': -1, 'parents': {}}, created_at='2025-08-24T23:11:42.166703+00:00', parent_config=None, tasks=(PregelTask(id='932abf2e-0c81-3867-52fd-c45ecb887b27', name='__start__', path=('__pregel_pull', '__start__'), error=None, interrupts=(), state=None, result={'topic': 'pizza'}),), interrupts=())]"
      ]
     },
     "execution_count": 22,
     "metadata": {},
     "output_type": "execute_result"
    }
   ],
   "source": [
    "list(workflow.get_state_history(config1))"
   ]
  },
  {
   "cell_type": "code",
   "execution_count": 21,
   "id": "c9b501d0",
   "metadata": {},
   "outputs": [
    {
     "data": {
      "text/plain": [
       "{'configurable': {'thread_id': '1',\n",
       "  'checkpoint_ns': '',\n",
       "  'checkpoint_id': '1f0813fb-2ad9-6a45-8001-567b5460f172'}}"
      ]
     },
     "execution_count": 21,
     "metadata": {},
     "output_type": "execute_result"
    }
   ],
   "source": [
    "list(workflow.get_state_history(config1))[1].config"
   ]
  },
  {
   "cell_type": "code",
   "execution_count": 23,
   "id": "913c4379",
   "metadata": {},
   "outputs": [
    {
     "data": {
      "text/plain": [
       "StateSnapshot(values={'topic': 'pizza', 'joke': 'Why did the pizza maker quit his job?\\n\\nBecause he was tired of getting dough-minated!'}, next=('generate_explanation',), config={'configurable': {'thread_id': '1', 'checkpoint_id': '1f0813fb-2ad9-6a45-8001-567b5460f172'}}, metadata={'source': 'loop', 'step': 1, 'parents': {}}, created_at='2025-08-24T23:11:42.912979+00:00', parent_config={'configurable': {'thread_id': '1', 'checkpoint_ns': '', 'checkpoint_id': '1f0813fb-23be-61bf-8000-8bd827779e92'}}, tasks=(PregelTask(id='7d0bc49e-8f19-6eb2-1237-b820d424b155', name='generate_explanation', path=('__pregel_pull', 'generate_explanation'), error=None, interrupts=(), state=None, result={'explanation': 'The joke plays on two things:\\n\\n1. **The word \"dominated\":** This word means to be controlled or ruled by someone or something. In a work context, it can imply a boss or work environment that is overly controlling.\\n\\n2. **The word \"dough\":** This is the main ingredient for pizza crust.  The joke substitutes \"dough\" for the \"do\" in \"dominated,\" creating the pun \"dough-minated.\"\\n\\nTherefore, the pizza maker quit because he was tired of being \"dough-minated\" - a humorous way of saying he was tired of being controlled, likely by his boss or the demanding nature of the job involving constant work with dough. The humor comes from the unexpected and relevant wordplay.'}),), interrupts=())"
      ]
     },
     "execution_count": 23,
     "metadata": {},
     "output_type": "execute_result"
    }
   ],
   "source": [
    "workflow.get_state({\"configurable\": {\"thread_id\": \"1\", \"checkpoint_id\": \"1f0813fb-2ad9-6a45-8001-567b5460f172\"}})"
   ]
  },
  {
   "cell_type": "code",
   "execution_count": 24,
   "id": "e7d80faf",
   "metadata": {},
   "outputs": [
    {
     "data": {
      "text/plain": [
       "{'topic': 'pizza',\n",
       " 'joke': 'Why did the pizza maker quit his job?\\n\\nBecause he was tired of getting dough-minated!',\n",
       " 'explanation': 'The joke \"Why did the pizza maker quit his job? Because he was tired of getting dough-minated!\" is a pun. Here\\'s why it\\'s funny:\\n\\n* **\"Dough-minated\" is a play on words.** It combines the word \"dough,\" referring to pizza dough, with the word \"dominated,\" meaning controlled or overpowered.\\n\\n* **The humor comes from the double meaning.** The joke suggests that the pizza maker was being controlled or bossed around at work (\"dominated\").  However, the use of \"dough\" implies that this control was specifically related to his work with pizza dough, making the reason both absurd and relatable to anyone who\\'s ever felt overwhelmed at their job.\\n\\n* **It\\'s a simple, clean pun.**  Puns are often humorous because they rely on unexpected wordplay, and this one is easy to understand and appreciate.\\n\\nEssentially, the joke is funny because it takes a common complaint about a job (feeling controlled) and twists it into a pizza-related pun.'}"
      ]
     },
     "execution_count": 24,
     "metadata": {},
     "output_type": "execute_result"
    }
   ],
   "source": [
    "workflow.invoke(None, {\"configurable\": {\"thread_id\": \"1\", \"checkpoint_id\": \"1f0813fb-2ad9-6a45-8001-567b5460f172\"}})"
   ]
  },
  {
   "cell_type": "code",
   "execution_count": 27,
   "id": "a064a057",
   "metadata": {},
   "outputs": [
    {
     "data": {
      "text/plain": [
       "{'topic': 'pizza',\n",
       " 'joke': 'Why did the pizza maker quit his job?\\n\\nBecause he was tired of getting dough-minated!',\n",
       " 'explanation': 'The joke \"Why did the pizza maker quit his job? Because he was tired of getting dough-minated!\" is a pun. Here\\'s why it\\'s funny:\\n\\n* **\"Dough-minated\" is a play on words.** It combines the word \"dough,\" referring to pizza dough, with the word \"dominated,\" meaning controlled or overpowered.\\n\\n* **The humor comes from the double meaning.** The joke suggests that the pizza maker was being controlled or bossed around at work (\"dominated\").  However, the use of \"dough\" implies that this control was specifically related to his work with pizza dough, making the reason both absurd and relatable to anyone who\\'s ever felt overwhelmed at their job.\\n\\n* **It\\'s a simple, clean pun.**  Puns are often humorous because they rely on unexpected wordplay, and this one is easy to understand and appreciate.\\n\\nEssentially, the joke is funny because it takes a common complaint about a job (feeling controlled) and twists it into a pizza-related pun.'}"
      ]
     },
     "execution_count": 27,
     "metadata": {},
     "output_type": "execute_result"
    }
   ],
   "source": [
    "workflow.get_state(config1).values"
   ]
  },
  {
   "cell_type": "code",
   "execution_count": 31,
   "id": "fd32a0d2",
   "metadata": {},
   "outputs": [
    {
     "name": "stdout",
     "output_type": "stream",
     "text": [
      "{'configurable': {'thread_id': '1', 'checkpoint_ns': '', 'checkpoint_id': '1f0813fb-23bb-6ad9-bfff-5213aaca9366'}}\n",
      "{}\n",
      "--------------------\n",
      "{'configurable': {'thread_id': '1', 'checkpoint_ns': '', 'checkpoint_id': '1f0813fb-23be-61bf-8000-8bd827779e92'}}\n",
      "{'topic': 'pizza'}\n",
      "--------------------\n",
      "{'configurable': {'thread_id': '1', 'checkpoint_ns': '', 'checkpoint_id': '1f0813fb-2ad9-6a45-8001-567b5460f172'}}\n",
      "{'topic': 'pizza', 'joke': 'Why did the pizza maker quit his job?\\n\\nBecause he was tired of getting dough-minated!'}\n",
      "--------------------\n",
      "{'configurable': {'thread_id': '1', 'checkpoint_ns': '', 'checkpoint_id': '1f0813fb-3901-6c58-8002-b93126337346'}}\n",
      "{'topic': 'pizza', 'joke': 'Why did the pizza maker quit his job?\\n\\nBecause he was tired of getting dough-minated!', 'explanation': 'The joke plays on two things:\\n\\n1. **The word \"dominated\":** This word means to be controlled or ruled by someone or something. In a work context, it can imply a boss or work environment that is overly controlling.\\n\\n2. **The word \"dough\":** This is the main ingredient for pizza crust.  The joke substitutes \"dough\" for the \"do\" in \"dominated,\" creating the pun \"dough-minated.\"\\n\\nTherefore, the pizza maker quit because he was tired of being \"dough-minated\" - a humorous way of saying he was tired of being controlled, likely by his boss or the demanding nature of the job involving constant work with dough. The humor comes from the unexpected and relevant wordplay.'}\n",
      "--------------------\n",
      "{'configurable': {'thread_id': '1', 'checkpoint_ns': '', 'checkpoint_id': '1f08140f-16a4-6069-8002-e9ce4ed30984'}}\n",
      "{'topic': 'pizza', 'joke': 'Why did the pizza maker quit his job?\\n\\nBecause he was tired of getting dough-minated!', 'explanation': 'The joke \"Why did the pizza maker quit his job? Because he was tired of getting dough-minated!\" is a pun. Here\\'s why it\\'s funny:\\n\\n* **\"Dough-minated\" is a play on words.** It combines the word \"dough,\" referring to pizza dough, with the word \"dominated,\" meaning controlled or overpowered.\\n\\n* **The humor comes from the double meaning.** The joke suggests that the pizza maker was being controlled or bossed around at work (\"dominated\").  However, the use of \"dough\" implies that this control was specifically related to his work with pizza dough, making the reason both absurd and relatable to anyone who\\'s ever felt overwhelmed at their job.\\n\\n* **It\\'s a simple, clean pun.**  Puns are often humorous because they rely on unexpected wordplay, and this one is easy to understand and appreciate.\\n\\nEssentially, the joke is funny because it takes a common complaint about a job (feeling controlled) and twists it into a pizza-related pun.'}\n",
      "--------------------\n"
     ]
    }
   ],
   "source": [
    "for x in list(workflow.get_state_history(config1))[::-1]:\n",
    "    print(x.config)\n",
    "    print(x.values)\n",
    "    print('-'*20)"
   ]
  },
  {
   "cell_type": "markdown",
   "id": "1e800768",
   "metadata": {},
   "source": [
    "### Update State"
   ]
  },
  {
   "cell_type": "code",
   "execution_count": 32,
   "id": "f2b73584",
   "metadata": {},
   "outputs": [
    {
     "data": {
      "text/plain": [
       "{'configurable': {'thread_id': '1',\n",
       "  'checkpoint_ns': '',\n",
       "  'checkpoint_id': '1f08141f-b124-6246-8001-79bda0f3946c'}}"
      ]
     },
     "execution_count": 32,
     "metadata": {},
     "output_type": "execute_result"
    }
   ],
   "source": [
    "workflow.update_state({\"configurable\": {\"thread_id\": \"1\", \"checkpoint_id\": \"1f0813fb-23be-61bf-8000-8bd827779e92\", \"checkpoint_ns\": \"\"}}, {'topic':'samosa'})"
   ]
  },
  {
   "cell_type": "code",
   "execution_count": 33,
   "id": "80291e4a",
   "metadata": {},
   "outputs": [
    {
     "data": {
      "text/plain": [
       "[StateSnapshot(values={'topic': 'samosa'}, next=('generate_joke',), config={'configurable': {'thread_id': '1', 'checkpoint_ns': '', 'checkpoint_id': '1f08141f-b124-6246-8001-79bda0f3946c'}}, metadata={'source': 'update', 'step': 1, 'parents': {}}, created_at='2025-08-24T23:28:03.362055+00:00', parent_config={'configurable': {'thread_id': '1', 'checkpoint_ns': '', 'checkpoint_id': '1f0813fb-23be-61bf-8000-8bd827779e92'}}, tasks=(PregelTask(id='33b8b95a-d150-6f0b-dc2c-3e85f5236bc1', name='generate_joke', path=('__pregel_pull', 'generate_joke'), error=None, interrupts=(), state=None, result=None),), interrupts=()),\n",
       " StateSnapshot(values={'topic': 'pizza', 'joke': 'Why did the pizza maker quit his job?\\n\\nBecause he was tired of getting dough-minated!', 'explanation': 'The joke \"Why did the pizza maker quit his job? Because he was tired of getting dough-minated!\" is a pun. Here\\'s why it\\'s funny:\\n\\n* **\"Dough-minated\" is a play on words.** It combines the word \"dough,\" referring to pizza dough, with the word \"dominated,\" meaning controlled or overpowered.\\n\\n* **The humor comes from the double meaning.** The joke suggests that the pizza maker was being controlled or bossed around at work (\"dominated\").  However, the use of \"dough\" implies that this control was specifically related to his work with pizza dough, making the reason both absurd and relatable to anyone who\\'s ever felt overwhelmed at their job.\\n\\n* **It\\'s a simple, clean pun.**  Puns are often humorous because they rely on unexpected wordplay, and this one is easy to understand and appreciate.\\n\\nEssentially, the joke is funny because it takes a common complaint about a job (feeling controlled) and twists it into a pizza-related pun.'}, next=(), config={'configurable': {'thread_id': '1', 'checkpoint_ns': '', 'checkpoint_id': '1f08140f-16a4-6069-8002-e9ce4ed30984'}}, metadata={'source': 'loop', 'step': 2, 'parents': {}}, created_at='2025-08-24T23:20:37.664778+00:00', parent_config={'configurable': {'thread_id': '1', 'checkpoint_ns': '', 'checkpoint_id': '1f0813fb-2ad9-6a45-8001-567b5460f172'}}, tasks=(), interrupts=()),\n",
       " StateSnapshot(values={'topic': 'pizza', 'joke': 'Why did the pizza maker quit his job?\\n\\nBecause he was tired of getting dough-minated!', 'explanation': 'The joke plays on two things:\\n\\n1. **The word \"dominated\":** This word means to be controlled or ruled by someone or something. In a work context, it can imply a boss or work environment that is overly controlling.\\n\\n2. **The word \"dough\":** This is the main ingredient for pizza crust.  The joke substitutes \"dough\" for the \"do\" in \"dominated,\" creating the pun \"dough-minated.\"\\n\\nTherefore, the pizza maker quit because he was tired of being \"dough-minated\" - a humorous way of saying he was tired of being controlled, likely by his boss or the demanding nature of the job involving constant work with dough. The humor comes from the unexpected and relevant wordplay.'}, next=(), config={'configurable': {'thread_id': '1', 'checkpoint_ns': '', 'checkpoint_id': '1f0813fb-3901-6c58-8002-b93126337346'}}, metadata={'source': 'loop', 'step': 2, 'parents': {}}, created_at='2025-08-24T23:11:44.397423+00:00', parent_config={'configurable': {'thread_id': '1', 'checkpoint_ns': '', 'checkpoint_id': '1f0813fb-2ad9-6a45-8001-567b5460f172'}}, tasks=(), interrupts=()),\n",
       " StateSnapshot(values={'topic': 'pizza', 'joke': 'Why did the pizza maker quit his job?\\n\\nBecause he was tired of getting dough-minated!'}, next=('generate_explanation',), config={'configurable': {'thread_id': '1', 'checkpoint_ns': '', 'checkpoint_id': '1f0813fb-2ad9-6a45-8001-567b5460f172'}}, metadata={'source': 'loop', 'step': 1, 'parents': {}}, created_at='2025-08-24T23:11:42.912979+00:00', parent_config={'configurable': {'thread_id': '1', 'checkpoint_ns': '', 'checkpoint_id': '1f0813fb-23be-61bf-8000-8bd827779e92'}}, tasks=(PregelTask(id='7d0bc49e-8f19-6eb2-1237-b820d424b155', name='generate_explanation', path=('__pregel_pull', 'generate_explanation'), error=None, interrupts=(), state=None, result={'explanation': 'The joke plays on two things:\\n\\n1. **The word \"dominated\":** This word means to be controlled or ruled by someone or something. In a work context, it can imply a boss or work environment that is overly controlling.\\n\\n2. **The word \"dough\":** This is the main ingredient for pizza crust.  The joke substitutes \"dough\" for the \"do\" in \"dominated,\" creating the pun \"dough-minated.\"\\n\\nTherefore, the pizza maker quit because he was tired of being \"dough-minated\" - a humorous way of saying he was tired of being controlled, likely by his boss or the demanding nature of the job involving constant work with dough. The humor comes from the unexpected and relevant wordplay.'}),), interrupts=()),\n",
       " StateSnapshot(values={'topic': 'pizza'}, next=('generate_joke',), config={'configurable': {'thread_id': '1', 'checkpoint_ns': '', 'checkpoint_id': '1f0813fb-23be-61bf-8000-8bd827779e92'}}, metadata={'source': 'loop', 'step': 0, 'parents': {}}, created_at='2025-08-24T23:11:42.167699+00:00', parent_config={'configurable': {'thread_id': '1', 'checkpoint_ns': '', 'checkpoint_id': '1f0813fb-23bb-6ad9-bfff-5213aaca9366'}}, tasks=(PregelTask(id='342d7d56-620c-ed9b-4c16-0ebb6881c4ac', name='generate_joke', path=('__pregel_pull', 'generate_joke'), error=None, interrupts=(), state=None, result={'joke': 'Why did the pizza maker quit his job?\\n\\nBecause he was tired of getting dough-minated!'}),), interrupts=()),\n",
       " StateSnapshot(values={}, next=('__start__',), config={'configurable': {'thread_id': '1', 'checkpoint_ns': '', 'checkpoint_id': '1f0813fb-23bb-6ad9-bfff-5213aaca9366'}}, metadata={'source': 'input', 'step': -1, 'parents': {}}, created_at='2025-08-24T23:11:42.166703+00:00', parent_config=None, tasks=(PregelTask(id='932abf2e-0c81-3867-52fd-c45ecb887b27', name='__start__', path=('__pregel_pull', '__start__'), error=None, interrupts=(), state=None, result={'topic': 'pizza'}),), interrupts=())]"
      ]
     },
     "execution_count": 33,
     "metadata": {},
     "output_type": "execute_result"
    }
   ],
   "source": [
    "list(workflow.get_state_history(config1))"
   ]
  },
  {
   "cell_type": "code",
   "execution_count": 34,
   "id": "2b73b12a",
   "metadata": {},
   "outputs": [
    {
     "data": {
      "text/plain": [
       "{'topic': 'samosa',\n",
       " 'joke': 'Why did the samosa break up with the chutney?\\n\\nBecause it felt like it was being used for its filling!',\n",
       " 'explanation': 'Okay, here\\'s the breakdown of the joke:\\n\\n*   **The Setup:** \"Why did the samosa break up with the chutney?\" This sets up a scenario where we\\'re anthropomorphizing food, giving them human-like relationships and problems.\\n\\n*   **The Punchline:** \"Because it felt like it was being used for its filling!\"\\n\\n*   **The Humor:** The humor comes from the double meaning of \"filling.\"\\n\\n    *   **Literal Meaning:** A samosa contains a mixture of ingredients (potatoes, peas, spices, etc.) that is its \"filling.\" This is the obvious connection.\\n    *   **Figurative Meaning:** \"Feeling used\" is an idiom that means someone feels like they are only valued for what they can provide to another person, not for who they are as an individual.\\n\\nThe joke plays on the fact that the chutney (a condiment often eaten with samosas) is primarily used to enhance the flavor of the samosa. The samosa, in this scenario, feels like the chutney is only interested in it for its filling (the actual stuff inside the samosa), and not for the samosa itself as a whole, therefore causing the breakup. It\\'s a pun based on the common human experience of feeling exploited in a relationship, but applied to food.'}"
      ]
     },
     "execution_count": 34,
     "metadata": {},
     "output_type": "execute_result"
    }
   ],
   "source": [
    "workflow.invoke(None, {\"configurable\": {\"thread_id\": \"1\", \"checkpoint_id\": \"1f08141f-b124-6246-8001-79bda0f3946c\"}})"
   ]
  },
  {
   "cell_type": "code",
   "execution_count": 35,
   "id": "5bb28d48",
   "metadata": {},
   "outputs": [
    {
     "data": {
      "text/plain": [
       "[StateSnapshot(values={'topic': 'samosa', 'joke': 'Why did the samosa break up with the chutney?\\n\\nBecause it felt like it was being used for its filling!', 'explanation': 'Okay, here\\'s the breakdown of the joke:\\n\\n*   **The Setup:** \"Why did the samosa break up with the chutney?\" This sets up a scenario where we\\'re anthropomorphizing food, giving them human-like relationships and problems.\\n\\n*   **The Punchline:** \"Because it felt like it was being used for its filling!\"\\n\\n*   **The Humor:** The humor comes from the double meaning of \"filling.\"\\n\\n    *   **Literal Meaning:** A samosa contains a mixture of ingredients (potatoes, peas, spices, etc.) that is its \"filling.\" This is the obvious connection.\\n    *   **Figurative Meaning:** \"Feeling used\" is an idiom that means someone feels like they are only valued for what they can provide to another person, not for who they are as an individual.\\n\\nThe joke plays on the fact that the chutney (a condiment often eaten with samosas) is primarily used to enhance the flavor of the samosa. The samosa, in this scenario, feels like the chutney is only interested in it for its filling (the actual stuff inside the samosa), and not for the samosa itself as a whole, therefore causing the breakup. It\\'s a pun based on the common human experience of feeling exploited in a relationship, but applied to food.'}, next=(), config={'configurable': {'thread_id': '1', 'checkpoint_ns': '', 'checkpoint_id': '1f081421-bb85-64dc-8003-364e2def143d'}}, metadata={'source': 'loop', 'step': 3, 'parents': {}}, created_at='2025-08-24T23:28:58.137519+00:00', parent_config={'configurable': {'thread_id': '1', 'checkpoint_ns': '', 'checkpoint_id': '1f081421-a8fa-6684-8002-4ae8f5bb0839'}}, tasks=(), interrupts=()),\n",
       " StateSnapshot(values={'topic': 'samosa', 'joke': 'Why did the samosa break up with the chutney?\\n\\nBecause it felt like it was being used for its filling!'}, next=('generate_explanation',), config={'configurable': {'thread_id': '1', 'checkpoint_ns': '', 'checkpoint_id': '1f081421-a8fa-6684-8002-4ae8f5bb0839'}}, metadata={'source': 'loop', 'step': 2, 'parents': {}}, created_at='2025-08-24T23:28:56.193190+00:00', parent_config={'configurable': {'thread_id': '1', 'checkpoint_ns': '', 'checkpoint_id': '1f08141f-b124-6246-8001-79bda0f3946c'}}, tasks=(PregelTask(id='1caa66ce-8aa1-90e0-b11c-7c69fbd4eea9', name='generate_explanation', path=('__pregel_pull', 'generate_explanation'), error=None, interrupts=(), state=None, result={'explanation': 'Okay, here\\'s the breakdown of the joke:\\n\\n*   **The Setup:** \"Why did the samosa break up with the chutney?\" This sets up a scenario where we\\'re anthropomorphizing food, giving them human-like relationships and problems.\\n\\n*   **The Punchline:** \"Because it felt like it was being used for its filling!\"\\n\\n*   **The Humor:** The humor comes from the double meaning of \"filling.\"\\n\\n    *   **Literal Meaning:** A samosa contains a mixture of ingredients (potatoes, peas, spices, etc.) that is its \"filling.\" This is the obvious connection.\\n    *   **Figurative Meaning:** \"Feeling used\" is an idiom that means someone feels like they are only valued for what they can provide to another person, not for who they are as an individual.\\n\\nThe joke plays on the fact that the chutney (a condiment often eaten with samosas) is primarily used to enhance the flavor of the samosa. The samosa, in this scenario, feels like the chutney is only interested in it for its filling (the actual stuff inside the samosa), and not for the samosa itself as a whole, therefore causing the breakup. It\\'s a pun based on the common human experience of feeling exploited in a relationship, but applied to food.'}),), interrupts=()),\n",
       " StateSnapshot(values={'topic': 'samosa'}, next=('generate_joke',), config={'configurable': {'thread_id': '1', 'checkpoint_ns': '', 'checkpoint_id': '1f08141f-b124-6246-8001-79bda0f3946c'}}, metadata={'source': 'update', 'step': 1, 'parents': {}}, created_at='2025-08-24T23:28:03.362055+00:00', parent_config={'configurable': {'thread_id': '1', 'checkpoint_ns': '', 'checkpoint_id': '1f0813fb-23be-61bf-8000-8bd827779e92'}}, tasks=(PregelTask(id='33b8b95a-d150-6f0b-dc2c-3e85f5236bc1', name='generate_joke', path=('__pregel_pull', 'generate_joke'), error=None, interrupts=(), state=None, result={'joke': 'Why did the samosa break up with the chutney?\\n\\nBecause it felt like it was being used for its filling!'}),), interrupts=()),\n",
       " StateSnapshot(values={'topic': 'pizza', 'joke': 'Why did the pizza maker quit his job?\\n\\nBecause he was tired of getting dough-minated!', 'explanation': 'The joke \"Why did the pizza maker quit his job? Because he was tired of getting dough-minated!\" is a pun. Here\\'s why it\\'s funny:\\n\\n* **\"Dough-minated\" is a play on words.** It combines the word \"dough,\" referring to pizza dough, with the word \"dominated,\" meaning controlled or overpowered.\\n\\n* **The humor comes from the double meaning.** The joke suggests that the pizza maker was being controlled or bossed around at work (\"dominated\").  However, the use of \"dough\" implies that this control was specifically related to his work with pizza dough, making the reason both absurd and relatable to anyone who\\'s ever felt overwhelmed at their job.\\n\\n* **It\\'s a simple, clean pun.**  Puns are often humorous because they rely on unexpected wordplay, and this one is easy to understand and appreciate.\\n\\nEssentially, the joke is funny because it takes a common complaint about a job (feeling controlled) and twists it into a pizza-related pun.'}, next=(), config={'configurable': {'thread_id': '1', 'checkpoint_ns': '', 'checkpoint_id': '1f08140f-16a4-6069-8002-e9ce4ed30984'}}, metadata={'source': 'loop', 'step': 2, 'parents': {}}, created_at='2025-08-24T23:20:37.664778+00:00', parent_config={'configurable': {'thread_id': '1', 'checkpoint_ns': '', 'checkpoint_id': '1f0813fb-2ad9-6a45-8001-567b5460f172'}}, tasks=(), interrupts=()),\n",
       " StateSnapshot(values={'topic': 'pizza', 'joke': 'Why did the pizza maker quit his job?\\n\\nBecause he was tired of getting dough-minated!', 'explanation': 'The joke plays on two things:\\n\\n1. **The word \"dominated\":** This word means to be controlled or ruled by someone or something. In a work context, it can imply a boss or work environment that is overly controlling.\\n\\n2. **The word \"dough\":** This is the main ingredient for pizza crust.  The joke substitutes \"dough\" for the \"do\" in \"dominated,\" creating the pun \"dough-minated.\"\\n\\nTherefore, the pizza maker quit because he was tired of being \"dough-minated\" - a humorous way of saying he was tired of being controlled, likely by his boss or the demanding nature of the job involving constant work with dough. The humor comes from the unexpected and relevant wordplay.'}, next=(), config={'configurable': {'thread_id': '1', 'checkpoint_ns': '', 'checkpoint_id': '1f0813fb-3901-6c58-8002-b93126337346'}}, metadata={'source': 'loop', 'step': 2, 'parents': {}}, created_at='2025-08-24T23:11:44.397423+00:00', parent_config={'configurable': {'thread_id': '1', 'checkpoint_ns': '', 'checkpoint_id': '1f0813fb-2ad9-6a45-8001-567b5460f172'}}, tasks=(), interrupts=()),\n",
       " StateSnapshot(values={'topic': 'pizza', 'joke': 'Why did the pizza maker quit his job?\\n\\nBecause he was tired of getting dough-minated!'}, next=('generate_explanation',), config={'configurable': {'thread_id': '1', 'checkpoint_ns': '', 'checkpoint_id': '1f0813fb-2ad9-6a45-8001-567b5460f172'}}, metadata={'source': 'loop', 'step': 1, 'parents': {}}, created_at='2025-08-24T23:11:42.912979+00:00', parent_config={'configurable': {'thread_id': '1', 'checkpoint_ns': '', 'checkpoint_id': '1f0813fb-23be-61bf-8000-8bd827779e92'}}, tasks=(PregelTask(id='7d0bc49e-8f19-6eb2-1237-b820d424b155', name='generate_explanation', path=('__pregel_pull', 'generate_explanation'), error=None, interrupts=(), state=None, result={'explanation': 'The joke plays on two things:\\n\\n1. **The word \"dominated\":** This word means to be controlled or ruled by someone or something. In a work context, it can imply a boss or work environment that is overly controlling.\\n\\n2. **The word \"dough\":** This is the main ingredient for pizza crust.  The joke substitutes \"dough\" for the \"do\" in \"dominated,\" creating the pun \"dough-minated.\"\\n\\nTherefore, the pizza maker quit because he was tired of being \"dough-minated\" - a humorous way of saying he was tired of being controlled, likely by his boss or the demanding nature of the job involving constant work with dough. The humor comes from the unexpected and relevant wordplay.'}),), interrupts=()),\n",
       " StateSnapshot(values={'topic': 'pizza'}, next=('generate_joke',), config={'configurable': {'thread_id': '1', 'checkpoint_ns': '', 'checkpoint_id': '1f0813fb-23be-61bf-8000-8bd827779e92'}}, metadata={'source': 'loop', 'step': 0, 'parents': {}}, created_at='2025-08-24T23:11:42.167699+00:00', parent_config={'configurable': {'thread_id': '1', 'checkpoint_ns': '', 'checkpoint_id': '1f0813fb-23bb-6ad9-bfff-5213aaca9366'}}, tasks=(PregelTask(id='342d7d56-620c-ed9b-4c16-0ebb6881c4ac', name='generate_joke', path=('__pregel_pull', 'generate_joke'), error=None, interrupts=(), state=None, result={'joke': 'Why did the pizza maker quit his job?\\n\\nBecause he was tired of getting dough-minated!'}),), interrupts=()),\n",
       " StateSnapshot(values={}, next=('__start__',), config={'configurable': {'thread_id': '1', 'checkpoint_ns': '', 'checkpoint_id': '1f0813fb-23bb-6ad9-bfff-5213aaca9366'}}, metadata={'source': 'input', 'step': -1, 'parents': {}}, created_at='2025-08-24T23:11:42.166703+00:00', parent_config=None, tasks=(PregelTask(id='932abf2e-0c81-3867-52fd-c45ecb887b27', name='__start__', path=('__pregel_pull', '__start__'), error=None, interrupts=(), state=None, result={'topic': 'pizza'}),), interrupts=())]"
      ]
     },
     "execution_count": 35,
     "metadata": {},
     "output_type": "execute_result"
    }
   ],
   "source": [
    "list(workflow.get_state_history(config1))"
   ]
  },
  {
   "cell_type": "markdown",
   "id": "38f1af81",
   "metadata": {},
   "source": [
    "## Fault Tolerance"
   ]
  },
  {
   "cell_type": "code",
   "execution_count": 3,
   "id": "a3a224ea",
   "metadata": {},
   "outputs": [],
   "source": [
    "# 1. Define the state\n",
    "class CrashState(TypedDict):\n",
    "    input: str\n",
    "    step1: str\n",
    "    step2: str"
   ]
  },
  {
   "cell_type": "code",
   "execution_count": 4,
   "id": "26c40c1b",
   "metadata": {},
   "outputs": [],
   "source": [
    "# 2. Define steps\n",
    "def step_1(state: CrashState) -> CrashState:\n",
    "    print(\"✅ Step 1 executed\")\n",
    "    return {\"step1\": \"done\", \"input\": state[\"input\"]}\n",
    "\n",
    "def step_2(state: CrashState) -> CrashState:\n",
    "    print(\"⏳ Step 2 hanging... now manually interrupt from the notebook toolbar (STOP button)\")\n",
    "    time.sleep(1000)  # Simulate long-running hang\n",
    "    return {\"step2\": \"done\"}\n",
    "\n",
    "def step_3(state: CrashState) -> CrashState:\n",
    "    print(\"✅ Step 3 executed\")\n",
    "    return {\"done\": True}"
   ]
  },
  {
   "cell_type": "code",
   "execution_count": 5,
   "id": "bb025351",
   "metadata": {},
   "outputs": [],
   "source": [
    "# 3. Build the graph\n",
    "builder = StateGraph(CrashState)\n",
    "builder.add_node(\"step_1\", step_1)\n",
    "builder.add_node(\"step_2\", step_2)\n",
    "builder.add_node(\"step_3\", step_3)\n",
    "\n",
    "builder.set_entry_point(\"step_1\")\n",
    "builder.add_edge(\"step_1\", \"step_2\")\n",
    "builder.add_edge(\"step_2\", \"step_3\")\n",
    "builder.add_edge(\"step_3\", END)\n",
    "\n",
    "checkpointer = InMemorySaver()\n",
    "graph = builder.compile(checkpointer=checkpointer)"
   ]
  },
  {
   "cell_type": "code",
   "execution_count": null,
   "id": "f41e8986",
   "metadata": {},
   "outputs": [
    {
     "name": "stdout",
     "output_type": "stream",
     "text": [
      "▶️ Running graph: Please manually interrupt during Step 2...\n",
      "✅ Step 1 executed\n",
      "⏳ Step 2 hanging... now manually interrupt from the notebook toolbar (STOP button)\n"
     ]
    }
   ],
   "source": [
    "import time\n",
    "try:\n",
    "    print(\"▶️ Running graph: Please manually interrupt during Step 2...\")\n",
    "    graph.invoke({\"input\": \"start\"}, config={\"configurable\": {\"thread_id\": 'thread-1'}})\n",
    "except KeyboardInterrupt:\n",
    "    print(\"❌ Kernel manually interrupted (crash simulated).\")"
   ]
  },
  {
   "cell_type": "code",
   "execution_count": null,
   "id": "5776c79e",
   "metadata": {},
   "outputs": [],
   "source": [
    "list(graph.get_state_history({\"configurable\": {\"thread_id\": 'thread-1'}}))"
   ]
  },
  {
   "cell_type": "code",
   "execution_count": null,
   "id": "1ce2d770",
   "metadata": {},
   "outputs": [],
   "source": [
    "# Re-run to show fault-tolerant resume\n",
    "print(\"\\n🔁 Re-running the graph to demonstrate fault tolerance...\")\n",
    "final_state = graph.invoke(None, config={\"configurable\": {\"thread_id\": 'thread-1'}})\n",
    "print(\"\\n✅ Final State:\", final_state)"
   ]
  },
  {
   "cell_type": "code",
   "execution_count": null,
   "id": "df48f5d6",
   "metadata": {},
   "outputs": [],
   "source": [
    "list(graph.get_state_history({\"configurable\": {\"thread_id\": 'thread-1'}}))"
   ]
  }
 ],
 "metadata": {
  "kernelspec": {
   "display_name": ".venv",
   "language": "python",
   "name": "python3"
  },
  "language_info": {
   "codemirror_mode": {
    "name": "ipython",
    "version": 3
   },
   "file_extension": ".py",
   "mimetype": "text/x-python",
   "name": "python",
   "nbconvert_exporter": "python",
   "pygments_lexer": "ipython3",
   "version": "3.12.7"
  }
 },
 "nbformat": 4,
 "nbformat_minor": 5
}
