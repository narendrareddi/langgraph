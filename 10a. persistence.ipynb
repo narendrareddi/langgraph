{
 "cells": [
  {
   "cell_type": "code",
   "execution_count": 1,
   "id": "939263df",
   "metadata": {},
   "outputs": [],
   "source": [
    "from langgraph.graph import StateGraph, START, END\n",
    "from typing import TypedDict\n",
    "from langchain_google_genai import ChatGoogleGenerativeAI\n",
    "from dotenv import load_dotenv\n",
    "from langgraph.checkpoint.memory import InMemorySaver"
   ]
  },
  {
   "cell_type": "code",
   "execution_count": 2,
   "id": "4d2c5e6a",
   "metadata": {},
   "outputs": [],
   "source": [
    "load_dotenv()\n",
    "llm = ChatGoogleGenerativeAI(model='gemini-2.0-flash')"
   ]
  },
  {
   "cell_type": "code",
   "execution_count": 3,
   "id": "ad5c74b2",
   "metadata": {},
   "outputs": [],
   "source": [
    "class JokeState(TypedDict):\n",
    "\n",
    "    topic: str\n",
    "    joke: str\n",
    "    explanation: str"
   ]
  },
  {
   "cell_type": "code",
   "execution_count": 4,
   "id": "8a3c89a8",
   "metadata": {},
   "outputs": [],
   "source": [
    "def generate_joke(state: JokeState):\n",
    "\n",
    "    prompt = f'generate a joke on the topic {state[\"topic\"]}'\n",
    "    response = llm.invoke(prompt).content\n",
    "\n",
    "    return {'joke': response}"
   ]
  },
  {
   "cell_type": "code",
   "execution_count": 5,
   "id": "cd8272ec",
   "metadata": {},
   "outputs": [],
   "source": [
    "def generate_explanation(state: JokeState):\n",
    "\n",
    "    prompt = f'write an explanation for the joke - {state[\"joke\"]}'\n",
    "    response = llm.invoke(prompt).content\n",
    "\n",
    "    return {'explanation': response}"
   ]
  },
  {
   "cell_type": "code",
   "execution_count": 6,
   "id": "02776bdc",
   "metadata": {},
   "outputs": [],
   "source": [
    "graph = StateGraph(JokeState)\n",
    "\n",
    "graph.add_node('generate_joke', generate_joke)\n",
    "graph.add_node('generate_explanation', generate_explanation)\n",
    "\n",
    "graph.add_edge(START, 'generate_joke')\n",
    "graph.add_edge('generate_joke', 'generate_explanation')\n",
    "graph.add_edge('generate_explanation', END)\n",
    "\n",
    "checkpointer = InMemorySaver()\n",
    "\n",
    "workflow = graph.compile(checkpointer=checkpointer)"
   ]
  },
  {
   "cell_type": "code",
   "execution_count": 7,
   "id": "f20a14fc",
   "metadata": {},
   "outputs": [
    {
     "data": {
      "text/plain": [
       "{'topic': 'pizza',\n",
       " 'joke': 'Why did the pizza maker quit his job?\\n\\nBecause he was tired of getting so much dough!',\n",
       " 'explanation': 'The joke plays on the double meaning of the word \"dough.\"\\n\\n*   **Literal Meaning:** \"Dough\" is the uncooked mixture of flour, water, and other ingredients used to make pizza crust. A pizza maker works with dough all day long.\\n*   **Figurative Meaning:** \"Dough\" is a slang term for money.\\n\\nThe joke implies that the pizza maker quit because he was tired of making so much pizza dough (literal), but the humor comes from the suggestion that he was tired of making so much money (figurative). It\\'s a pun!'}"
      ]
     },
     "execution_count": 7,
     "metadata": {},
     "output_type": "execute_result"
    }
   ],
   "source": [
    "config1 = {\"configurable\": {\"thread_id\": \"1\"}}\n",
    "workflow.invoke({'topic':'pizza'}, config=config1)"
   ]
  },
  {
   "cell_type": "code",
   "execution_count": 8,
   "id": "4661785f",
   "metadata": {},
   "outputs": [
    {
     "data": {
      "text/plain": [
       "StateSnapshot(values={'topic': 'pizza', 'joke': 'Why did the pizza maker quit his job?\\n\\nBecause he was tired of getting so much dough!', 'explanation': 'The joke plays on the double meaning of the word \"dough.\"\\n\\n*   **Literal Meaning:** \"Dough\" is the uncooked mixture of flour, water, and other ingredients used to make pizza crust. A pizza maker works with dough all day long.\\n*   **Figurative Meaning:** \"Dough\" is a slang term for money.\\n\\nThe joke implies that the pizza maker quit because he was tired of making so much pizza dough (literal), but the humor comes from the suggestion that he was tired of making so much money (figurative). It\\'s a pun!'}, next=(), config={'configurable': {'thread_id': '1', 'checkpoint_ns': '', 'checkpoint_id': '1f085c7b-d897-6062-8002-d07e790bc886'}}, metadata={'source': 'loop', 'step': 2, 'parents': {}}, created_at='2025-08-30T17:35:37.337251+00:00', parent_config={'configurable': {'thread_id': '1', 'checkpoint_ns': '', 'checkpoint_id': '1f085c7b-ced8-6bae-8001-112d91f43b14'}}, tasks=(), interrupts=())"
      ]
     },
     "execution_count": 8,
     "metadata": {},
     "output_type": "execute_result"
    }
   ],
   "source": [
    "workflow.get_state(config1)"
   ]
  },
  {
   "cell_type": "code",
   "execution_count": 9,
   "id": "c86cb252",
   "metadata": {},
   "outputs": [
    {
     "data": {
      "text/plain": [
       "[StateSnapshot(values={'topic': 'pizza', 'joke': 'Why did the pizza maker quit his job?\\n\\nBecause he was tired of getting so much dough!', 'explanation': 'The joke plays on the double meaning of the word \"dough.\"\\n\\n*   **Literal Meaning:** \"Dough\" is the uncooked mixture of flour, water, and other ingredients used to make pizza crust. A pizza maker works with dough all day long.\\n*   **Figurative Meaning:** \"Dough\" is a slang term for money.\\n\\nThe joke implies that the pizza maker quit because he was tired of making so much pizza dough (literal), but the humor comes from the suggestion that he was tired of making so much money (figurative). It\\'s a pun!'}, next=(), config={'configurable': {'thread_id': '1', 'checkpoint_ns': '', 'checkpoint_id': '1f085c7b-d897-6062-8002-d07e790bc886'}}, metadata={'source': 'loop', 'step': 2, 'parents': {}}, created_at='2025-08-30T17:35:37.337251+00:00', parent_config={'configurable': {'thread_id': '1', 'checkpoint_ns': '', 'checkpoint_id': '1f085c7b-ced8-6bae-8001-112d91f43b14'}}, tasks=(), interrupts=()),\n",
       " StateSnapshot(values={'topic': 'pizza', 'joke': 'Why did the pizza maker quit his job?\\n\\nBecause he was tired of getting so much dough!'}, next=('generate_explanation',), config={'configurable': {'thread_id': '1', 'checkpoint_ns': '', 'checkpoint_id': '1f085c7b-ced8-6bae-8001-112d91f43b14'}}, metadata={'source': 'loop', 'step': 1, 'parents': {}}, created_at='2025-08-30T17:35:36.315588+00:00', parent_config={'configurable': {'thread_id': '1', 'checkpoint_ns': '', 'checkpoint_id': '1f085c7b-c79f-60bc-8000-e7e3ba06eb6e'}}, tasks=(PregelTask(id='ba497e02-cdf0-beb2-72e7-d09881742825', name='generate_explanation', path=('__pregel_pull', 'generate_explanation'), error=None, interrupts=(), state=None, result={'explanation': 'The joke plays on the double meaning of the word \"dough.\"\\n\\n*   **Literal Meaning:** \"Dough\" is the uncooked mixture of flour, water, and other ingredients used to make pizza crust. A pizza maker works with dough all day long.\\n*   **Figurative Meaning:** \"Dough\" is a slang term for money.\\n\\nThe joke implies that the pizza maker quit because he was tired of making so much pizza dough (literal), but the humor comes from the suggestion that he was tired of making so much money (figurative). It\\'s a pun!'}),), interrupts=()),\n",
       " StateSnapshot(values={'topic': 'pizza'}, next=('generate_joke',), config={'configurable': {'thread_id': '1', 'checkpoint_ns': '', 'checkpoint_id': '1f085c7b-c79f-60bc-8000-e7e3ba06eb6e'}}, metadata={'source': 'loop', 'step': 0, 'parents': {}}, created_at='2025-08-30T17:35:35.557958+00:00', parent_config={'configurable': {'thread_id': '1', 'checkpoint_ns': '', 'checkpoint_id': '1f085c7b-c79c-67ba-bfff-dda3ef5df583'}}, tasks=(PregelTask(id='35a4e611-b263-02a6-29a2-c4c7e9218dbe', name='generate_joke', path=('__pregel_pull', 'generate_joke'), error=None, interrupts=(), state=None, result={'joke': 'Why did the pizza maker quit his job?\\n\\nBecause he was tired of getting so much dough!'}),), interrupts=()),\n",
       " StateSnapshot(values={}, next=('__start__',), config={'configurable': {'thread_id': '1', 'checkpoint_ns': '', 'checkpoint_id': '1f085c7b-c79c-67ba-bfff-dda3ef5df583'}}, metadata={'source': 'input', 'step': -1, 'parents': {}}, created_at='2025-08-30T17:35:35.556908+00:00', parent_config=None, tasks=(PregelTask(id='c7f2b5ee-3b22-4a0f-63b6-0780a3eadf13', name='__start__', path=('__pregel_pull', '__start__'), error=None, interrupts=(), state=None, result={'topic': 'pizza'}),), interrupts=())]"
      ]
     },
     "execution_count": 9,
     "metadata": {},
     "output_type": "execute_result"
    }
   ],
   "source": [
    "list(workflow.get_state_history(config1))"
   ]
  },
  {
   "cell_type": "code",
   "execution_count": 10,
   "id": "1d82dbd7",
   "metadata": {},
   "outputs": [
    {
     "data": {
      "text/plain": [
       "{'topic': 'pasta',\n",
       " 'joke': 'Why did the spaghetti blush?\\n\\nBecause it saw the meatball!',\n",
       " 'explanation': 'The joke \"Why did the spaghetti blush? Because it saw the meatball!\" relies on a simple, slightly suggestive play on words. Here\\'s the breakdown:\\n\\n* **Blushing:** Blushing is a physical reaction, typically associated with embarrassment, shyness, or feeling flustered. It\\'s a human characteristic.\\n\\n* **Anthropomorphism:** The joke gives human qualities (the ability to blush) to inanimate objects (spaghetti). This is a common comedic technique.\\n\\n* **The Suggestion:** The humor comes from the implied, slightly risqué association between the spaghetti and the meatball. The joke hints at a suggestive or romantic encounter between the two. The meatball, in this context, is presented in a way that might cause the spaghetti to feel embarrassed or flustered, hence the \"blush.\" Think of it as a lighthearted, food-based innuendo.\\n\\nIn essence, the joke is funny because it:\\n\\n* **Is unexpected:** We don\\'t expect food to blush.\\n* **Uses a double meaning:** The situation implies a slightly suggestive interaction.\\n* **Is absurd:** The idea of spaghetti blushing at a meatball is inherently silly.\\n\\nIt\\'s a simple, clean joke that relies on the listener\\'s understanding of social cues and a bit of playful imagination.'}"
      ]
     },
     "execution_count": 10,
     "metadata": {},
     "output_type": "execute_result"
    }
   ],
   "source": [
    "config2 = {\"configurable\": {\"thread_id\": \"2\"}}\n",
    "workflow.invoke({'topic':'pasta'}, config=config2)"
   ]
  },
  {
   "cell_type": "code",
   "execution_count": 11,
   "id": "c1559bcd",
   "metadata": {},
   "outputs": [
    {
     "data": {
      "text/plain": [
       "{'configurable': {'thread_id': '2',\n",
       "  'checkpoint_ns': '',\n",
       "  'checkpoint_id': '1f085cc8-5924-689d-8002-3e245c06c297'}}"
      ]
     },
     "execution_count": 11,
     "metadata": {},
     "output_type": "execute_result"
    }
   ],
   "source": [
    "workflow.get_state(config2).config"
   ]
  },
  {
   "cell_type": "code",
   "execution_count": 12,
   "id": "87cf169b",
   "metadata": {},
   "outputs": [
    {
     "data": {
      "text/plain": [
       "{'configurable': {'thread_id': '2',\n",
       "  'checkpoint_ns': '',\n",
       "  'checkpoint_id': '1f085cc8-39ed-6672-bfff-51934025c9a2'}}"
      ]
     },
     "execution_count": 12,
     "metadata": {},
     "output_type": "execute_result"
    }
   ],
   "source": [
    "list(workflow.get_state_history(config2))[-1].config"
   ]
  },
  {
   "cell_type": "markdown",
   "id": "fde9c4f6",
   "metadata": {},
   "source": [
    "## Time Travel"
   ]
  },
  {
   "cell_type": "code",
   "execution_count": 13,
   "id": "d56e7b60",
   "metadata": {},
   "outputs": [
    {
     "data": {
      "text/plain": [
       "[StateSnapshot(values={'topic': 'pizza', 'joke': 'Why did the pizza maker quit his job?\\n\\nBecause he was tired of getting so much dough!', 'explanation': 'The joke plays on the double meaning of the word \"dough.\"\\n\\n*   **Literal Meaning:** \"Dough\" is the uncooked mixture of flour, water, and other ingredients used to make pizza crust. A pizza maker works with dough all day long.\\n*   **Figurative Meaning:** \"Dough\" is a slang term for money.\\n\\nThe joke implies that the pizza maker quit because he was tired of making so much pizza dough (literal), but the humor comes from the suggestion that he was tired of making so much money (figurative). It\\'s a pun!'}, next=(), config={'configurable': {'thread_id': '1', 'checkpoint_ns': '', 'checkpoint_id': '1f085c7b-d897-6062-8002-d07e790bc886'}}, metadata={'source': 'loop', 'step': 2, 'parents': {}}, created_at='2025-08-30T17:35:37.337251+00:00', parent_config={'configurable': {'thread_id': '1', 'checkpoint_ns': '', 'checkpoint_id': '1f085c7b-ced8-6bae-8001-112d91f43b14'}}, tasks=(), interrupts=()),\n",
       " StateSnapshot(values={'topic': 'pizza', 'joke': 'Why did the pizza maker quit his job?\\n\\nBecause he was tired of getting so much dough!'}, next=('generate_explanation',), config={'configurable': {'thread_id': '1', 'checkpoint_ns': '', 'checkpoint_id': '1f085c7b-ced8-6bae-8001-112d91f43b14'}}, metadata={'source': 'loop', 'step': 1, 'parents': {}}, created_at='2025-08-30T17:35:36.315588+00:00', parent_config={'configurable': {'thread_id': '1', 'checkpoint_ns': '', 'checkpoint_id': '1f085c7b-c79f-60bc-8000-e7e3ba06eb6e'}}, tasks=(PregelTask(id='ba497e02-cdf0-beb2-72e7-d09881742825', name='generate_explanation', path=('__pregel_pull', 'generate_explanation'), error=None, interrupts=(), state=None, result={'explanation': 'The joke plays on the double meaning of the word \"dough.\"\\n\\n*   **Literal Meaning:** \"Dough\" is the uncooked mixture of flour, water, and other ingredients used to make pizza crust. A pizza maker works with dough all day long.\\n*   **Figurative Meaning:** \"Dough\" is a slang term for money.\\n\\nThe joke implies that the pizza maker quit because he was tired of making so much pizza dough (literal), but the humor comes from the suggestion that he was tired of making so much money (figurative). It\\'s a pun!'}),), interrupts=()),\n",
       " StateSnapshot(values={'topic': 'pizza'}, next=('generate_joke',), config={'configurable': {'thread_id': '1', 'checkpoint_ns': '', 'checkpoint_id': '1f085c7b-c79f-60bc-8000-e7e3ba06eb6e'}}, metadata={'source': 'loop', 'step': 0, 'parents': {}}, created_at='2025-08-30T17:35:35.557958+00:00', parent_config={'configurable': {'thread_id': '1', 'checkpoint_ns': '', 'checkpoint_id': '1f085c7b-c79c-67ba-bfff-dda3ef5df583'}}, tasks=(PregelTask(id='35a4e611-b263-02a6-29a2-c4c7e9218dbe', name='generate_joke', path=('__pregel_pull', 'generate_joke'), error=None, interrupts=(), state=None, result={'joke': 'Why did the pizza maker quit his job?\\n\\nBecause he was tired of getting so much dough!'}),), interrupts=()),\n",
       " StateSnapshot(values={}, next=('__start__',), config={'configurable': {'thread_id': '1', 'checkpoint_ns': '', 'checkpoint_id': '1f085c7b-c79c-67ba-bfff-dda3ef5df583'}}, metadata={'source': 'input', 'step': -1, 'parents': {}}, created_at='2025-08-30T17:35:35.556908+00:00', parent_config=None, tasks=(PregelTask(id='c7f2b5ee-3b22-4a0f-63b6-0780a3eadf13', name='__start__', path=('__pregel_pull', '__start__'), error=None, interrupts=(), state=None, result={'topic': 'pizza'}),), interrupts=())]"
      ]
     },
     "execution_count": 13,
     "metadata": {},
     "output_type": "execute_result"
    }
   ],
   "source": [
    "list(workflow.get_state_history(config1))"
   ]
  },
  {
   "cell_type": "code",
   "execution_count": 14,
   "id": "c9b501d0",
   "metadata": {},
   "outputs": [
    {
     "data": {
      "text/plain": [
       "{'configurable': {'thread_id': '1',\n",
       "  'checkpoint_ns': '',\n",
       "  'checkpoint_id': '1f085c7b-ced8-6bae-8001-112d91f43b14'}}"
      ]
     },
     "execution_count": 14,
     "metadata": {},
     "output_type": "execute_result"
    }
   ],
   "source": [
    "list(workflow.get_state_history(config1))[1].config"
   ]
  },
  {
   "cell_type": "code",
   "execution_count": 17,
   "id": "913c4379",
   "metadata": {},
   "outputs": [
    {
     "data": {
      "text/plain": [
       "StateSnapshot(values={'topic': 'pizza', 'joke': 'Why did the pizza maker quit his job?\\n\\nBecause he was tired of getting so much dough!'}, next=('generate_explanation',), config={'configurable': {'thread_id': '1', 'checkpoint_id': '1f085c7b-ced8-6bae-8001-112d91f43b14'}}, metadata={'source': 'loop', 'step': 1, 'parents': {}}, created_at='2025-08-30T17:35:36.315588+00:00', parent_config={'configurable': {'thread_id': '1', 'checkpoint_ns': '', 'checkpoint_id': '1f085c7b-c79f-60bc-8000-e7e3ba06eb6e'}}, tasks=(PregelTask(id='ba497e02-cdf0-beb2-72e7-d09881742825', name='generate_explanation', path=('__pregel_pull', 'generate_explanation'), error=None, interrupts=(), state=None, result={'explanation': 'The joke plays on the double meaning of the word \"dough.\"\\n\\n*   **Literal Meaning:** \"Dough\" is the uncooked mixture of flour, water, and other ingredients used to make pizza crust. A pizza maker works with dough all day long.\\n*   **Figurative Meaning:** \"Dough\" is a slang term for money.\\n\\nThe joke implies that the pizza maker quit because he was tired of making so much pizza dough (literal), but the humor comes from the suggestion that he was tired of making so much money (figurative). It\\'s a pun!'}),), interrupts=())"
      ]
     },
     "execution_count": 17,
     "metadata": {},
     "output_type": "execute_result"
    }
   ],
   "source": [
    "workflow.get_state({\"configurable\": {\"thread_id\": \"1\", \"checkpoint_id\": \"1f085c7b-ced8-6bae-8001-112d91f43b14\"}})"
   ]
  },
  {
   "cell_type": "code",
   "execution_count": 18,
   "id": "e7d80faf",
   "metadata": {},
   "outputs": [
    {
     "data": {
      "text/plain": [
       "{'topic': 'pizza',\n",
       " 'joke': 'Why did the pizza maker quit his job?\\n\\nBecause he was tired of getting so much dough!',\n",
       " 'explanation': 'The joke plays on the double meaning of the word \"dough.\"\\n\\n* **Literal Meaning:** \"Dough\" is the uncooked mixture of flour, water, and other ingredients used to make pizza crust. A pizza maker handles dough all day.\\n\\n* **Figurative Meaning:** \"Dough\" is slang for money. To \"get dough\" means to earn money.\\n\\nThe joke implies that the pizza maker quit because he was overwhelmed by the amount of *money* he was earning (getting so much \"dough\"). It\\'s funny because you initially think of the literal meaning of dough (pizza dough), but the punchline reveals the intended meaning is about money. The unexpected shift in meaning is what makes the joke humorous.'}"
      ]
     },
     "execution_count": 18,
     "metadata": {},
     "output_type": "execute_result"
    }
   ],
   "source": [
    "workflow.invoke(None, {\"configurable\": {\"thread_id\": \"1\", \"checkpoint_id\": \"1f085c7b-ced8-6bae-8001-112d91f43b14\"}})"
   ]
  },
  {
   "cell_type": "code",
   "execution_count": 21,
   "id": "a064a057",
   "metadata": {},
   "outputs": [
    {
     "data": {
      "text/plain": [
       "{'topic': 'pizza',\n",
       " 'joke': 'Why did the pizza maker quit his job?\\n\\nBecause he was tired of getting so much dough!',\n",
       " 'explanation': 'The joke plays on the double meaning of the word \"dough.\"\\n\\n* **Literal Meaning:** \"Dough\" is the uncooked mixture of flour, water, and other ingredients used to make pizza crust. A pizza maker handles dough all day.\\n\\n* **Figurative Meaning:** \"Dough\" is slang for money. To \"get dough\" means to earn money.\\n\\nThe joke implies that the pizza maker quit because he was overwhelmed by the amount of *money* he was earning (getting so much \"dough\"). It\\'s funny because you initially think of the literal meaning of dough (pizza dough), but the punchline reveals the intended meaning is about money. The unexpected shift in meaning is what makes the joke humorous.'}"
      ]
     },
     "execution_count": 21,
     "metadata": {},
     "output_type": "execute_result"
    }
   ],
   "source": [
    "workflow.get_state(config1).values"
   ]
  },
  {
   "cell_type": "code",
   "execution_count": 22,
   "id": "fd32a0d2",
   "metadata": {},
   "outputs": [
    {
     "name": "stdout",
     "output_type": "stream",
     "text": [
      "{'configurable': {'thread_id': '1', 'checkpoint_ns': '', 'checkpoint_id': '1f085c7b-c79c-67ba-bfff-dda3ef5df583'}}\n",
      "{}\n",
      "--------------------\n",
      "{'configurable': {'thread_id': '1', 'checkpoint_ns': '', 'checkpoint_id': '1f085c7b-c79f-60bc-8000-e7e3ba06eb6e'}}\n",
      "{'topic': 'pizza'}\n",
      "--------------------\n",
      "{'configurable': {'thread_id': '1', 'checkpoint_ns': '', 'checkpoint_id': '1f085c7b-ced8-6bae-8001-112d91f43b14'}}\n",
      "{'topic': 'pizza', 'joke': 'Why did the pizza maker quit his job?\\n\\nBecause he was tired of getting so much dough!'}\n",
      "--------------------\n",
      "{'configurable': {'thread_id': '1', 'checkpoint_ns': '', 'checkpoint_id': '1f085c7b-d897-6062-8002-d07e790bc886'}}\n",
      "{'topic': 'pizza', 'joke': 'Why did the pizza maker quit his job?\\n\\nBecause he was tired of getting so much dough!', 'explanation': 'The joke plays on the double meaning of the word \"dough.\"\\n\\n*   **Literal Meaning:** \"Dough\" is the uncooked mixture of flour, water, and other ingredients used to make pizza crust. A pizza maker works with dough all day long.\\n*   **Figurative Meaning:** \"Dough\" is a slang term for money.\\n\\nThe joke implies that the pizza maker quit because he was tired of making so much pizza dough (literal), but the humor comes from the suggestion that he was tired of making so much money (figurative). It\\'s a pun!'}\n",
      "--------------------\n",
      "{'configurable': {'thread_id': '1', 'checkpoint_ns': '', 'checkpoint_id': '1f085cd1-9350-62ee-8002-0dac9dbcbb87'}}\n",
      "{'topic': 'pizza', 'joke': 'Why did the pizza maker quit his job?\\n\\nBecause he was tired of getting so much dough!', 'explanation': 'The joke plays on the double meaning of the word \"dough.\"\\n\\n* **Literal Meaning:** \"Dough\" is the uncooked mixture of flour, water, and other ingredients used to make pizza crust. A pizza maker handles dough all day.\\n\\n* **Figurative Meaning:** \"Dough\" is slang for money. To \"get dough\" means to earn money.\\n\\nThe joke implies that the pizza maker quit because he was overwhelmed by the amount of *money* he was earning (getting so much \"dough\"). It\\'s funny because you initially think of the literal meaning of dough (pizza dough), but the punchline reveals the intended meaning is about money. The unexpected shift in meaning is what makes the joke humorous.'}\n",
      "--------------------\n"
     ]
    }
   ],
   "source": [
    "for x in list(workflow.get_state_history(config1))[::-1]:\n",
    "    print(x.config)\n",
    "    print(x.values)\n",
    "    print('-'*20)"
   ]
  },
  {
   "cell_type": "markdown",
   "id": "1e800768",
   "metadata": {},
   "source": [
    "### Update State"
   ]
  },
  {
   "cell_type": "code",
   "execution_count": 23,
   "id": "f2b73584",
   "metadata": {},
   "outputs": [
    {
     "data": {
      "text/plain": [
       "{'configurable': {'thread_id': '1',\n",
       "  'checkpoint_ns': '',\n",
       "  'checkpoint_id': '1f085cd6-a5a6-67cf-8001-fc54e1a982c4'}}"
      ]
     },
     "execution_count": 23,
     "metadata": {},
     "output_type": "execute_result"
    }
   ],
   "source": [
    "workflow.update_state({\"configurable\": {\"thread_id\": \"1\", \"checkpoint_id\": \"1f085c7b-c79f-60bc-8000-e7e3ba06eb6e\", \"checkpoint_ns\": \"\"}}, {'topic':'samosa'})"
   ]
  },
  {
   "cell_type": "code",
   "execution_count": 24,
   "id": "80291e4a",
   "metadata": {},
   "outputs": [
    {
     "data": {
      "text/plain": [
       "[StateSnapshot(values={'topic': 'samosa'}, next=('generate_joke',), config={'configurable': {'thread_id': '1', 'checkpoint_ns': '', 'checkpoint_id': '1f085cd6-a5a6-67cf-8001-fc54e1a982c4'}}, metadata={'source': 'update', 'step': 1, 'parents': {}}, created_at='2025-08-30T18:16:14.758497+00:00', parent_config={'configurable': {'thread_id': '1', 'checkpoint_ns': '', 'checkpoint_id': '1f085c7b-c79f-60bc-8000-e7e3ba06eb6e'}}, tasks=(PregelTask(id='b4a4675c-7f50-9d4d-c13d-806637de8087', name='generate_joke', path=('__pregel_pull', 'generate_joke'), error=None, interrupts=(), state=None, result=None),), interrupts=()),\n",
       " StateSnapshot(values={'topic': 'pizza', 'joke': 'Why did the pizza maker quit his job?\\n\\nBecause he was tired of getting so much dough!', 'explanation': 'The joke plays on the double meaning of the word \"dough.\"\\n\\n* **Literal Meaning:** \"Dough\" is the uncooked mixture of flour, water, and other ingredients used to make pizza crust. A pizza maker handles dough all day.\\n\\n* **Figurative Meaning:** \"Dough\" is slang for money. To \"get dough\" means to earn money.\\n\\nThe joke implies that the pizza maker quit because he was overwhelmed by the amount of *money* he was earning (getting so much \"dough\"). It\\'s funny because you initially think of the literal meaning of dough (pizza dough), but the punchline reveals the intended meaning is about money. The unexpected shift in meaning is what makes the joke humorous.'}, next=(), config={'configurable': {'thread_id': '1', 'checkpoint_ns': '', 'checkpoint_id': '1f085cd1-9350-62ee-8002-0dac9dbcbb87'}}, metadata={'source': 'loop', 'step': 2, 'parents': {}}, created_at='2025-08-30T18:13:58.617982+00:00', parent_config={'configurable': {'thread_id': '1', 'checkpoint_ns': '', 'checkpoint_id': '1f085c7b-ced8-6bae-8001-112d91f43b14'}}, tasks=(), interrupts=()),\n",
       " StateSnapshot(values={'topic': 'pizza', 'joke': 'Why did the pizza maker quit his job?\\n\\nBecause he was tired of getting so much dough!', 'explanation': 'The joke plays on the double meaning of the word \"dough.\"\\n\\n*   **Literal Meaning:** \"Dough\" is the uncooked mixture of flour, water, and other ingredients used to make pizza crust. A pizza maker works with dough all day long.\\n*   **Figurative Meaning:** \"Dough\" is a slang term for money.\\n\\nThe joke implies that the pizza maker quit because he was tired of making so much pizza dough (literal), but the humor comes from the suggestion that he was tired of making so much money (figurative). It\\'s a pun!'}, next=(), config={'configurable': {'thread_id': '1', 'checkpoint_ns': '', 'checkpoint_id': '1f085c7b-d897-6062-8002-d07e790bc886'}}, metadata={'source': 'loop', 'step': 2, 'parents': {}}, created_at='2025-08-30T17:35:37.337251+00:00', parent_config={'configurable': {'thread_id': '1', 'checkpoint_ns': '', 'checkpoint_id': '1f085c7b-ced8-6bae-8001-112d91f43b14'}}, tasks=(), interrupts=()),\n",
       " StateSnapshot(values={'topic': 'pizza', 'joke': 'Why did the pizza maker quit his job?\\n\\nBecause he was tired of getting so much dough!'}, next=('generate_explanation',), config={'configurable': {'thread_id': '1', 'checkpoint_ns': '', 'checkpoint_id': '1f085c7b-ced8-6bae-8001-112d91f43b14'}}, metadata={'source': 'loop', 'step': 1, 'parents': {}}, created_at='2025-08-30T17:35:36.315588+00:00', parent_config={'configurable': {'thread_id': '1', 'checkpoint_ns': '', 'checkpoint_id': '1f085c7b-c79f-60bc-8000-e7e3ba06eb6e'}}, tasks=(PregelTask(id='ba497e02-cdf0-beb2-72e7-d09881742825', name='generate_explanation', path=('__pregel_pull', 'generate_explanation'), error=None, interrupts=(), state=None, result={'explanation': 'The joke plays on the double meaning of the word \"dough.\"\\n\\n*   **Literal Meaning:** \"Dough\" is the uncooked mixture of flour, water, and other ingredients used to make pizza crust. A pizza maker works with dough all day long.\\n*   **Figurative Meaning:** \"Dough\" is a slang term for money.\\n\\nThe joke implies that the pizza maker quit because he was tired of making so much pizza dough (literal), but the humor comes from the suggestion that he was tired of making so much money (figurative). It\\'s a pun!'}),), interrupts=()),\n",
       " StateSnapshot(values={'topic': 'pizza'}, next=('generate_joke',), config={'configurable': {'thread_id': '1', 'checkpoint_ns': '', 'checkpoint_id': '1f085c7b-c79f-60bc-8000-e7e3ba06eb6e'}}, metadata={'source': 'loop', 'step': 0, 'parents': {}}, created_at='2025-08-30T17:35:35.557958+00:00', parent_config={'configurable': {'thread_id': '1', 'checkpoint_ns': '', 'checkpoint_id': '1f085c7b-c79c-67ba-bfff-dda3ef5df583'}}, tasks=(PregelTask(id='35a4e611-b263-02a6-29a2-c4c7e9218dbe', name='generate_joke', path=('__pregel_pull', 'generate_joke'), error=None, interrupts=(), state=None, result={'joke': 'Why did the pizza maker quit his job?\\n\\nBecause he was tired of getting so much dough!'}),), interrupts=()),\n",
       " StateSnapshot(values={}, next=('__start__',), config={'configurable': {'thread_id': '1', 'checkpoint_ns': '', 'checkpoint_id': '1f085c7b-c79c-67ba-bfff-dda3ef5df583'}}, metadata={'source': 'input', 'step': -1, 'parents': {}}, created_at='2025-08-30T17:35:35.556908+00:00', parent_config=None, tasks=(PregelTask(id='c7f2b5ee-3b22-4a0f-63b6-0780a3eadf13', name='__start__', path=('__pregel_pull', '__start__'), error=None, interrupts=(), state=None, result={'topic': 'pizza'}),), interrupts=())]"
      ]
     },
     "execution_count": 24,
     "metadata": {},
     "output_type": "execute_result"
    }
   ],
   "source": [
    "list(workflow.get_state_history(config1))"
   ]
  },
  {
   "cell_type": "code",
   "execution_count": 25,
   "id": "2b73b12a",
   "metadata": {},
   "outputs": [
    {
     "data": {
      "text/plain": [
       "{'topic': 'samosa',\n",
       " 'joke': 'Why did the samosa go to therapy?\\n\\nBecause it was feeling really pressured!',\n",
       " 'explanation': 'The joke plays on the double meaning of the word \"pressured\". Here\\'s a breakdown:\\n\\n* **Literal meaning (related to samosas):** Samosas are made by pressing the dough around the filling to form their characteristic shape. They are literally \"pressured\" during their creation.\\n\\n* **Figurative meaning (related to therapy):** To feel \"pressured\" means to feel stressed, overwhelmed, and like you\\'re under a lot of strain. This is a common reason why people seek therapy.\\n\\nThe humor comes from the unexpected connection between the literal pressure involved in making a samosa and the emotional pressure a person might experience. The joke personifies the samosa, giving it human-like feelings of stress related to its own creation. Therefore, it goes to therapy for being pressured (in the literal samosa-making sense, but also implying emotional stress).'}"
      ]
     },
     "execution_count": 25,
     "metadata": {},
     "output_type": "execute_result"
    }
   ],
   "source": [
    "workflow.invoke(None, {\"configurable\": {\"thread_id\": \"1\", \"checkpoint_id\": \"1f085cd6-a5a6-67cf-8001-fc54e1a982c4\"}})"
   ]
  },
  {
   "cell_type": "code",
   "execution_count": 26,
   "id": "5bb28d48",
   "metadata": {},
   "outputs": [
    {
     "data": {
      "text/plain": [
       "[StateSnapshot(values={'topic': 'samosa', 'joke': 'Why did the samosa go to therapy?\\n\\nBecause it was feeling really pressured!', 'explanation': 'The joke plays on the double meaning of the word \"pressured\". Here\\'s a breakdown:\\n\\n* **Literal meaning (related to samosas):** Samosas are made by pressing the dough around the filling to form their characteristic shape. They are literally \"pressured\" during their creation.\\n\\n* **Figurative meaning (related to therapy):** To feel \"pressured\" means to feel stressed, overwhelmed, and like you\\'re under a lot of strain. This is a common reason why people seek therapy.\\n\\nThe humor comes from the unexpected connection between the literal pressure involved in making a samosa and the emotional pressure a person might experience. The joke personifies the samosa, giving it human-like feelings of stress related to its own creation. Therefore, it goes to therapy for being pressured (in the literal samosa-making sense, but also implying emotional stress).'}, next=(), config={'configurable': {'thread_id': '1', 'checkpoint_ns': '', 'checkpoint_id': '1f085cda-8a74-613a-8003-0c4f08f2d287'}}, metadata={'source': 'loop', 'step': 3, 'parents': {}}, created_at='2025-08-30T18:17:59.280876+00:00', parent_config={'configurable': {'thread_id': '1', 'checkpoint_ns': '', 'checkpoint_id': '1f085cda-7bc7-676f-8002-b10f6a421684'}}, tasks=(), interrupts=()),\n",
       " StateSnapshot(values={'topic': 'samosa', 'joke': 'Why did the samosa go to therapy?\\n\\nBecause it was feeling really pressured!'}, next=('generate_explanation',), config={'configurable': {'thread_id': '1', 'checkpoint_ns': '', 'checkpoint_id': '1f085cda-7bc7-676f-8002-b10f6a421684'}}, metadata={'source': 'loop', 'step': 2, 'parents': {}}, created_at='2025-08-30T18:17:57.742167+00:00', parent_config={'configurable': {'thread_id': '1', 'checkpoint_ns': '', 'checkpoint_id': '1f085cd6-a5a6-67cf-8001-fc54e1a982c4'}}, tasks=(PregelTask(id='38eab3aa-ac64-1058-98d2-9e888caa3b9f', name='generate_explanation', path=('__pregel_pull', 'generate_explanation'), error=None, interrupts=(), state=None, result={'explanation': 'The joke plays on the double meaning of the word \"pressured\". Here\\'s a breakdown:\\n\\n* **Literal meaning (related to samosas):** Samosas are made by pressing the dough around the filling to form their characteristic shape. They are literally \"pressured\" during their creation.\\n\\n* **Figurative meaning (related to therapy):** To feel \"pressured\" means to feel stressed, overwhelmed, and like you\\'re under a lot of strain. This is a common reason why people seek therapy.\\n\\nThe humor comes from the unexpected connection between the literal pressure involved in making a samosa and the emotional pressure a person might experience. The joke personifies the samosa, giving it human-like feelings of stress related to its own creation. Therefore, it goes to therapy for being pressured (in the literal samosa-making sense, but also implying emotional stress).'}),), interrupts=()),\n",
       " StateSnapshot(values={'topic': 'samosa'}, next=('generate_joke',), config={'configurable': {'thread_id': '1', 'checkpoint_ns': '', 'checkpoint_id': '1f085cd6-a5a6-67cf-8001-fc54e1a982c4'}}, metadata={'source': 'update', 'step': 1, 'parents': {}}, created_at='2025-08-30T18:16:14.758497+00:00', parent_config={'configurable': {'thread_id': '1', 'checkpoint_ns': '', 'checkpoint_id': '1f085c7b-c79f-60bc-8000-e7e3ba06eb6e'}}, tasks=(PregelTask(id='b4a4675c-7f50-9d4d-c13d-806637de8087', name='generate_joke', path=('__pregel_pull', 'generate_joke'), error=None, interrupts=(), state=None, result={'joke': 'Why did the samosa go to therapy?\\n\\nBecause it was feeling really pressured!'}),), interrupts=()),\n",
       " StateSnapshot(values={'topic': 'pizza', 'joke': 'Why did the pizza maker quit his job?\\n\\nBecause he was tired of getting so much dough!', 'explanation': 'The joke plays on the double meaning of the word \"dough.\"\\n\\n* **Literal Meaning:** \"Dough\" is the uncooked mixture of flour, water, and other ingredients used to make pizza crust. A pizza maker handles dough all day.\\n\\n* **Figurative Meaning:** \"Dough\" is slang for money. To \"get dough\" means to earn money.\\n\\nThe joke implies that the pizza maker quit because he was overwhelmed by the amount of *money* he was earning (getting so much \"dough\"). It\\'s funny because you initially think of the literal meaning of dough (pizza dough), but the punchline reveals the intended meaning is about money. The unexpected shift in meaning is what makes the joke humorous.'}, next=(), config={'configurable': {'thread_id': '1', 'checkpoint_ns': '', 'checkpoint_id': '1f085cd1-9350-62ee-8002-0dac9dbcbb87'}}, metadata={'source': 'loop', 'step': 2, 'parents': {}}, created_at='2025-08-30T18:13:58.617982+00:00', parent_config={'configurable': {'thread_id': '1', 'checkpoint_ns': '', 'checkpoint_id': '1f085c7b-ced8-6bae-8001-112d91f43b14'}}, tasks=(), interrupts=()),\n",
       " StateSnapshot(values={'topic': 'pizza', 'joke': 'Why did the pizza maker quit his job?\\n\\nBecause he was tired of getting so much dough!', 'explanation': 'The joke plays on the double meaning of the word \"dough.\"\\n\\n*   **Literal Meaning:** \"Dough\" is the uncooked mixture of flour, water, and other ingredients used to make pizza crust. A pizza maker works with dough all day long.\\n*   **Figurative Meaning:** \"Dough\" is a slang term for money.\\n\\nThe joke implies that the pizza maker quit because he was tired of making so much pizza dough (literal), but the humor comes from the suggestion that he was tired of making so much money (figurative). It\\'s a pun!'}, next=(), config={'configurable': {'thread_id': '1', 'checkpoint_ns': '', 'checkpoint_id': '1f085c7b-d897-6062-8002-d07e790bc886'}}, metadata={'source': 'loop', 'step': 2, 'parents': {}}, created_at='2025-08-30T17:35:37.337251+00:00', parent_config={'configurable': {'thread_id': '1', 'checkpoint_ns': '', 'checkpoint_id': '1f085c7b-ced8-6bae-8001-112d91f43b14'}}, tasks=(), interrupts=()),\n",
       " StateSnapshot(values={'topic': 'pizza', 'joke': 'Why did the pizza maker quit his job?\\n\\nBecause he was tired of getting so much dough!'}, next=('generate_explanation',), config={'configurable': {'thread_id': '1', 'checkpoint_ns': '', 'checkpoint_id': '1f085c7b-ced8-6bae-8001-112d91f43b14'}}, metadata={'source': 'loop', 'step': 1, 'parents': {}}, created_at='2025-08-30T17:35:36.315588+00:00', parent_config={'configurable': {'thread_id': '1', 'checkpoint_ns': '', 'checkpoint_id': '1f085c7b-c79f-60bc-8000-e7e3ba06eb6e'}}, tasks=(PregelTask(id='ba497e02-cdf0-beb2-72e7-d09881742825', name='generate_explanation', path=('__pregel_pull', 'generate_explanation'), error=None, interrupts=(), state=None, result={'explanation': 'The joke plays on the double meaning of the word \"dough.\"\\n\\n*   **Literal Meaning:** \"Dough\" is the uncooked mixture of flour, water, and other ingredients used to make pizza crust. A pizza maker works with dough all day long.\\n*   **Figurative Meaning:** \"Dough\" is a slang term for money.\\n\\nThe joke implies that the pizza maker quit because he was tired of making so much pizza dough (literal), but the humor comes from the suggestion that he was tired of making so much money (figurative). It\\'s a pun!'}),), interrupts=()),\n",
       " StateSnapshot(values={'topic': 'pizza'}, next=('generate_joke',), config={'configurable': {'thread_id': '1', 'checkpoint_ns': '', 'checkpoint_id': '1f085c7b-c79f-60bc-8000-e7e3ba06eb6e'}}, metadata={'source': 'loop', 'step': 0, 'parents': {}}, created_at='2025-08-30T17:35:35.557958+00:00', parent_config={'configurable': {'thread_id': '1', 'checkpoint_ns': '', 'checkpoint_id': '1f085c7b-c79c-67ba-bfff-dda3ef5df583'}}, tasks=(PregelTask(id='35a4e611-b263-02a6-29a2-c4c7e9218dbe', name='generate_joke', path=('__pregel_pull', 'generate_joke'), error=None, interrupts=(), state=None, result={'joke': 'Why did the pizza maker quit his job?\\n\\nBecause he was tired of getting so much dough!'}),), interrupts=()),\n",
       " StateSnapshot(values={}, next=('__start__',), config={'configurable': {'thread_id': '1', 'checkpoint_ns': '', 'checkpoint_id': '1f085c7b-c79c-67ba-bfff-dda3ef5df583'}}, metadata={'source': 'input', 'step': -1, 'parents': {}}, created_at='2025-08-30T17:35:35.556908+00:00', parent_config=None, tasks=(PregelTask(id='c7f2b5ee-3b22-4a0f-63b6-0780a3eadf13', name='__start__', path=('__pregel_pull', '__start__'), error=None, interrupts=(), state=None, result={'topic': 'pizza'}),), interrupts=())]"
      ]
     },
     "execution_count": 26,
     "metadata": {},
     "output_type": "execute_result"
    }
   ],
   "source": [
    "list(workflow.get_state_history(config1))"
   ]
  },
  {
   "cell_type": "markdown",
   "id": "38f1af81",
   "metadata": {},
   "source": [
    "## Fault Tolerance"
   ]
  },
  {
   "cell_type": "code",
   "execution_count": 27,
   "id": "a3a224ea",
   "metadata": {},
   "outputs": [],
   "source": [
    "# 1. Define the state\n",
    "class CrashState(TypedDict):\n",
    "    input: str\n",
    "    step1: str\n",
    "    step2: str"
   ]
  },
  {
   "cell_type": "code",
   "execution_count": 28,
   "id": "26c40c1b",
   "metadata": {},
   "outputs": [],
   "source": [
    "# 2. Define steps\n",
    "def step_1(state: CrashState) -> CrashState:\n",
    "    print(\"✅ Step 1 executed\")\n",
    "    return {\"step1\": \"done\", \"input\": state[\"input\"]}\n",
    "\n",
    "def step_2(state: CrashState) -> CrashState:\n",
    "    print(\"⏳ Step 2 hanging... now manually interrupt from the notebook toolbar (STOP button)\")\n",
    "    time.sleep(1000)  # Simulate long-running hang\n",
    "    return {\"step2\": \"done\"}\n",
    "\n",
    "def step_3(state: CrashState) -> CrashState:\n",
    "    print(\"✅ Step 3 executed\")\n",
    "    return {\"done\": True}"
   ]
  },
  {
   "cell_type": "code",
   "execution_count": 29,
   "id": "bb025351",
   "metadata": {},
   "outputs": [],
   "source": [
    "# 3. Build the graph\n",
    "builder = StateGraph(CrashState)\n",
    "builder.add_node(\"step_1\", step_1)\n",
    "builder.add_node(\"step_2\", step_2)\n",
    "builder.add_node(\"step_3\", step_3)\n",
    "\n",
    "builder.set_entry_point(\"step_1\")\n",
    "builder.add_edge(\"step_1\", \"step_2\")\n",
    "builder.add_edge(\"step_2\", \"step_3\")\n",
    "builder.add_edge(\"step_3\", END)\n",
    "\n",
    "checkpointer = InMemorySaver()\n",
    "graph = builder.compile(checkpointer=checkpointer)"
   ]
  },
  {
   "cell_type": "code",
   "execution_count": null,
   "id": "f41e8986",
   "metadata": {},
   "outputs": [
    {
     "name": "stdout",
     "output_type": "stream",
     "text": [
      "▶️ Running graph: Please manually interrupt during Step 2...\n",
      "✅ Step 1 executed\n",
      "⏳ Step 2 hanging... now manually interrupt from the notebook toolbar (STOP button)\n"
     ]
    }
   ],
   "source": [
    "import time\n",
    "try:\n",
    "    print(\"▶️ Running graph: Please manually interrupt during Step 2...\")\n",
    "    graph.invoke({\"input\": \"start\"}, config={\"configurable\": {\"thread_id\": 'thread-1'}})\n",
    "except KeyboardInterrupt:\n",
    "    print(\"❌ Kernel manually interrupted (crash simulated).\")"
   ]
  },
  {
   "cell_type": "code",
   "execution_count": null,
   "id": "5776c79e",
   "metadata": {},
   "outputs": [],
   "source": [
    "list(graph.get_state_history({\"configurable\": {\"thread_id\": 'thread-1'}}))"
   ]
  },
  {
   "cell_type": "code",
   "execution_count": null,
   "id": "1ce2d770",
   "metadata": {},
   "outputs": [],
   "source": [
    "# Re-run to show fault-tolerant resume\n",
    "print(\"\\n🔁 Re-running the graph to demonstrate fault tolerance...\")\n",
    "final_state = graph.invoke(None, config={\"configurable\": {\"thread_id\": 'thread-1'}})\n",
    "print(\"\\n✅ Final State:\", final_state)"
   ]
  },
  {
   "cell_type": "code",
   "execution_count": null,
   "id": "df48f5d6",
   "metadata": {},
   "outputs": [],
   "source": [
    "list(graph.get_state_history({\"configurable\": {\"thread_id\": 'thread-1'}}))"
   ]
  }
 ],
 "metadata": {
  "kernelspec": {
   "display_name": ".venv",
   "language": "python",
   "name": "python3"
  },
  "language_info": {
   "codemirror_mode": {
    "name": "ipython",
    "version": 3
   },
   "file_extension": ".py",
   "mimetype": "text/x-python",
   "name": "python",
   "nbconvert_exporter": "python",
   "pygments_lexer": "ipython3",
   "version": "3.12.7"
  }
 },
 "nbformat": 4,
 "nbformat_minor": 5
}
