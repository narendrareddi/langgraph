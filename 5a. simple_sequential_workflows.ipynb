{
 "cells": [
  {
   "cell_type": "code",
   "execution_count": null,
   "id": "4aa955bf",
   "metadata": {},
   "outputs": [],
   "source": [
    "from langgraph.graph import StateGraph,START,END"
   ]
  },
  {
   "cell_type": "code",
   "execution_count": 4,
   "id": "152c74ad",
   "metadata": {},
   "outputs": [],
   "source": [
    "from typing import TypedDict\n",
    "\n",
    "class BMIState(TypedDict):\n",
    "    weight : float\n",
    "    height : float\n",
    "    bmi : float\n",
    "    category : str"
   ]
  },
  {
   "cell_type": "code",
   "execution_count": 5,
   "id": "1b24dd75",
   "metadata": {},
   "outputs": [],
   "source": [
    "def calculate_bmi(state:BMIState)->BMIState:\n",
    "    state['bmi'] = state['weight']/(state['height']**2)\n",
    "    return state"
   ]
  },
  {
   "cell_type": "code",
   "execution_count": 6,
   "id": "c4e7a3a7",
   "metadata": {},
   "outputs": [],
   "source": [
    "def category_finder(state:BMIState)->BMIState:\n",
    "    bmi = state['bmi']\n",
    "    if bmi < 18.5:\n",
    "        state[\"category\"] = \"Underweight\"\n",
    "    elif 18.5 <= bmi < 25:\n",
    "        state[\"category\"] = \"Normal\"\n",
    "    elif 25 <= bmi < 30:\n",
    "        state[\"category\"] = \"Overweight\"\n",
    "    else:\n",
    "        state[\"category\"] = \"Obese\"\n",
    "    return state"
   ]
  },
  {
   "cell_type": "code",
   "execution_count": 7,
   "id": "90dfce1d",
   "metadata": {},
   "outputs": [],
   "source": [
    "graph = StateGraph(BMIState)\n",
    "graph.add_node(\"BMIFinder\",calculate_bmi)\n",
    "graph.add_node(\"CategoryFinder\",category_finder)\n",
    "graph.add_edge(START,\"BMIFinder\")\n",
    "graph.add_edge(\"BMIFinder\",\"CategoryFinder\")\n",
    "graph.add_edge(\"CategoryFinder\",END)\n",
    "workflow = graph.compile()"
   ]
  },
  {
   "cell_type": "code",
   "execution_count": 12,
   "id": "a8335d17",
   "metadata": {},
   "outputs": [
    {
     "name": "stdout",
     "output_type": "stream",
     "text": [
      "{'weight': 80, 'height': 1.73, 'bmi': 26.729927495071667, 'category': 'Overweight'}\n"
     ]
    }
   ],
   "source": [
    "intial_state = {'weight':80, 'height':1.73}\n",
    "\n",
    "final_state = workflow.invoke(intial_state)\n",
    "\n",
    "print(final_state)"
   ]
  },
  {
   "cell_type": "code",
   "execution_count": 14,
   "id": "05b10c2f",
   "metadata": {},
   "outputs": [
    {
     "data": {
      "image/png": "[encoded data removed]",
      "text/plain": [
       "<IPython.core.display.Image object>"
      ]
     },
     "execution_count": 14,
     "metadata": {},
     "output_type": "execute_result"
    }
   ],
   "source": [
    "from IPython.display import Image\n",
    "Image(workflow.get_graph().draw_mermaid_png())"
   ]
  }
 ],
 "metadata": {
  "kernelspec": {
   "display_name": ".venv",
   "language": "python",
   "name": "python3"
  },
  "language_info": {
   "codemirror_mode": {
    "name": "ipython",
    "version": 3
   },
   "file_extension": ".py",
   "mimetype": "text/x-python",
   "name": "python",
   "nbconvert_exporter": "python",
   "pygments_lexer": "ipython3",
   "version": "3.12.7"
  }
 },
 "nbformat": 4,
 "nbformat_minor": 5
}
